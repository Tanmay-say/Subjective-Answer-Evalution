{
 "cells": [
  {
   "cell_type": "code",
   "execution_count": null,
   "metadata": {},
   "outputs": [
    {
     "ename": "",
     "evalue": "",
     "output_type": "error",
     "traceback": [
      "\u001b[1;31mRunning cells with 'c:\\Program Files\\Python312\\python.exe' requires the ipykernel package.\n",
      "\u001b[1;31mRun the following command to install 'ipykernel' into the Python environment. \n",
      "\u001b[1;31mCommand: '\"c:/Program Files/Python312/python.exe\" -m pip install ipykernel -U --user --force-reinstall'"
     ]
    }
   ],
   "source": [
    "import numpy as np\n",
    "import pandas as pd\n",
    "import re\n",
    "import gensim\n",
    "from sklearn.feature_extraction.text import TfidfVectorizer\n",
    "from sklearn.metrics.pairwise import cosine_similarity\n",
    "from gensim.models import Word2Vec\n",
    "from nltk.tokenize import word_tokenize\n",
    "import nltk\n",
    "\n",
    "# Download tokenizer\n",
    "nltk.download('punkt')\n",
    "\n",
    "# Load dataset\n",
    "df = pd.read_csv(\"your_dataset.csv\")  # Replace with actual dataset file\n",
    "\n",
    "# Text Preprocessing\n",
    "def preprocess(text):\n",
    "    text = text.lower()  # Lowercase\n",
    "    text = re.sub(r'\\W+', ' ', text)  # Remove special characters\n",
    "    return text.strip()\n",
    "\n",
    "df['cleaned_text'] = df['answer_column'].apply(preprocess)\n",
    "\n",
    "# --------- Approach 1: TF-IDF + Cosine Similarity ---------\n",
    "tfidf_vectorizer = TfidfVectorizer()\n",
    "tfidf_matrix = tfidf_vectorizer.fit_transform(df['cleaned_text'])\n",
    "\n",
    "def compute_tfidf_similarity(text1, text2):\n",
    "    vec1 = tfidf_vectorizer.transform([text1])\n",
    "    vec2 = tfidf_vectorizer.transform([text2])\n",
    "    return cosine_similarity(vec1, vec2)[0][0]\n",
    "\n",
    "# --------- Approach 2: Word2Vec Embeddings + Cosine Similarity ---------\n",
    "# Tokenize sentences\n",
    "tokenized_texts = [word_tokenize(text) for text in df['cleaned_text']]\n",
    "\n",
    "# Train Word2Vec Model\n",
    "word2vec_model = Word2Vec(sentences=tokenized_texts, vector_size=100, window=5, min_count=1, workers=4)\n",
    "\n",
    "# Get sentence embedding (average of word vectors)\n",
    "def get_sentence_embedding(text):\n",
    "    words = word_tokenize(text)\n",
    "    word_vectors = [word2vec_model.wv[word] for word in words if word in word2vec_model.wv]\n",
    "    if not word_vectors:  # If no words are found in the model, return zero vector\n",
    "        return np.zeros(100)\n",
    "    return np.mean(word_vectors, axis=0)\n",
    "\n",
    "def compute_word2vec_similarity(text1, text2):\n",
    "    vec1 = get_sentence_embedding(text1)\n",
    "    vec2 = get_sentence_embedding(text2)\n",
    "    return cosine_similarity([vec1], [vec2])[0][0]\n",
    "\n",
    "# --------- Example Usage ---------\n",
    "text1 = \"The cat is sleeping on the mat.\"\n",
    "text2 = \"A feline is resting on the carpet.\"\n",
    "\n",
    "print(\"TF-IDF Similarity:\", compute_tfidf_similarity(text1, text2))\n",
    "print(\"Word2Vec Similarity:\", compute_word2vec_similarity(text1, text2))\n"
   ]
  },
  {
   "cell_type": "code",
   "execution_count": null,
   "metadata": {},
   "outputs": [],
   "source": []
  }
 ],
 "metadata": {
  "kernelspec": {
   "display_name": "Python 3",
   "language": "python",
   "name": "python3"
  },
  "language_info": {
   "name": "python",
   "version": "3.12.8"
  }
 },
 "nbformat": 4,
 "nbformat_minor": 2
}
