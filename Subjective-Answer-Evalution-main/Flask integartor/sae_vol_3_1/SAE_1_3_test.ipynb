{
 "cells": [
  {
   "cell_type": "code",
   "execution_count": null,
   "metadata": {
    "colab": {
     "base_uri": "https://localhost:8080/"
    },
    "id": "kSub1qsCh4V4",
    "outputId": "5f9fe4a0-fd1e-4898-a267-eb8644514120"
   },
   "outputs": [
    {
     "name": "stdout",
     "output_type": "stream",
     "text": [
      "Found existing installation: tensorflow 2.18.0\n",
      "Uninstalling tensorflow-2.18.0:\n",
      "  Successfully uninstalled tensorflow-2.18.0\n",
      "Found existing installation: keras 3.8.0\n",
      "Uninstalling keras-3.8.0:\n",
      "  Successfully uninstalled keras-3.8.0\n",
      "Collecting tensorflow\n",
      "  Using cached tensorflow-2.18.0-cp311-cp311-manylinux_2_17_x86_64.manylinux2014_x86_64.whl.metadata (4.1 kB)\n",
      "Collecting keras\n",
      "  Using cached keras-3.8.0-py3-none-any.whl.metadata (5.8 kB)\n",
      "Requirement already satisfied: absl-py>=1.0.0 in /usr/local/lib/python3.11/dist-packages (from tensorflow) (1.4.0)\n",
      "Requirement already satisfied: astunparse>=1.6.0 in /usr/local/lib/python3.11/dist-packages (from tensorflow) (1.6.3)\n",
      "Requirement already satisfied: flatbuffers>=24.3.25 in /usr/local/lib/python3.11/dist-packages (from tensorflow) (25.2.10)\n",
      "Requirement already satisfied: gast!=0.5.0,!=0.5.1,!=0.5.2,>=0.2.1 in /usr/local/lib/python3.11/dist-packages (from tensorflow) (0.6.0)\n",
      "Requirement already satisfied: google-pasta>=0.1.1 in /usr/local/lib/python3.11/dist-packages (from tensorflow) (0.2.0)\n",
      "Requirement already satisfied: libclang>=13.0.0 in /usr/local/lib/python3.11/dist-packages (from tensorflow) (18.1.1)\n",
      "Requirement already satisfied: opt-einsum>=2.3.2 in /usr/local/lib/python3.11/dist-packages (from tensorflow) (3.4.0)\n",
      "Requirement already satisfied: packaging in /usr/local/lib/python3.11/dist-packages (from tensorflow) (24.2)\n",
      "Requirement already satisfied: protobuf!=4.21.0,!=4.21.1,!=4.21.2,!=4.21.3,!=4.21.4,!=4.21.5,<6.0.0dev,>=3.20.3 in /usr/local/lib/python3.11/dist-packages (from tensorflow) (5.29.3)\n",
      "Requirement already satisfied: requests<3,>=2.21.0 in /usr/local/lib/python3.11/dist-packages (from tensorflow) (2.32.3)\n",
      "Requirement already satisfied: setuptools in /usr/local/lib/python3.11/dist-packages (from tensorflow) (75.1.0)\n",
      "Requirement already satisfied: six>=1.12.0 in /usr/local/lib/python3.11/dist-packages (from tensorflow) (1.17.0)\n",
      "Requirement already satisfied: termcolor>=1.1.0 in /usr/local/lib/python3.11/dist-packages (from tensorflow) (2.5.0)\n",
      "Requirement already satisfied: typing-extensions>=3.6.6 in /usr/local/lib/python3.11/dist-packages (from tensorflow) (4.12.2)\n",
      "Requirement already satisfied: wrapt>=1.11.0 in /usr/local/lib/python3.11/dist-packages (from tensorflow) (1.17.2)\n",
      "Requirement already satisfied: grpcio<2.0,>=1.24.3 in /usr/local/lib/python3.11/dist-packages (from tensorflow) (1.70.0)\n",
      "Requirement already satisfied: tensorboard<2.19,>=2.18 in /usr/local/lib/python3.11/dist-packages (from tensorflow) (2.18.0)\n",
      "Requirement already satisfied: numpy<2.1.0,>=1.26.0 in /usr/local/lib/python3.11/dist-packages (from tensorflow) (1.26.4)\n",
      "Requirement already satisfied: h5py>=3.11.0 in /usr/local/lib/python3.11/dist-packages (from tensorflow) (3.13.0)\n",
      "Requirement already satisfied: ml-dtypes<0.5.0,>=0.4.0 in /usr/local/lib/python3.11/dist-packages (from tensorflow) (0.4.1)\n",
      "Requirement already satisfied: tensorflow-io-gcs-filesystem>=0.23.1 in /usr/local/lib/python3.11/dist-packages (from tensorflow) (0.37.1)\n",
      "Requirement already satisfied: rich in /usr/local/lib/python3.11/dist-packages (from keras) (13.9.4)\n",
      "Requirement already satisfied: namex in /usr/local/lib/python3.11/dist-packages (from keras) (0.0.8)\n",
      "Requirement already satisfied: optree in /usr/local/lib/python3.11/dist-packages (from keras) (0.14.0)\n",
      "Requirement already satisfied: wheel<1.0,>=0.23.0 in /usr/local/lib/python3.11/dist-packages (from astunparse>=1.6.0->tensorflow) (0.45.1)\n",
      "Requirement already satisfied: charset-normalizer<4,>=2 in /usr/local/lib/python3.11/dist-packages (from requests<3,>=2.21.0->tensorflow) (3.4.1)\n",
      "Requirement already satisfied: idna<4,>=2.5 in /usr/local/lib/python3.11/dist-packages (from requests<3,>=2.21.0->tensorflow) (3.10)\n",
      "Requirement already satisfied: urllib3<3,>=1.21.1 in /usr/local/lib/python3.11/dist-packages (from requests<3,>=2.21.0->tensorflow) (2.3.0)\n",
      "Requirement already satisfied: certifi>=2017.4.17 in /usr/local/lib/python3.11/dist-packages (from requests<3,>=2.21.0->tensorflow) (2025.1.31)\n",
      "Requirement already satisfied: markdown>=2.6.8 in /usr/local/lib/python3.11/dist-packages (from tensorboard<2.19,>=2.18->tensorflow) (3.7)\n",
      "Requirement already satisfied: tensorboard-data-server<0.8.0,>=0.7.0 in /usr/local/lib/python3.11/dist-packages (from tensorboard<2.19,>=2.18->tensorflow) (0.7.2)\n",
      "Requirement already satisfied: werkzeug>=1.0.1 in /usr/local/lib/python3.11/dist-packages (from tensorboard<2.19,>=2.18->tensorflow) (3.1.3)\n",
      "Requirement already satisfied: markdown-it-py>=2.2.0 in /usr/local/lib/python3.11/dist-packages (from rich->keras) (3.0.0)\n",
      "Requirement already satisfied: pygments<3.0.0,>=2.13.0 in /usr/local/lib/python3.11/dist-packages (from rich->keras) (2.19.1)\n",
      "Requirement already satisfied: mdurl~=0.1 in /usr/local/lib/python3.11/dist-packages (from markdown-it-py>=2.2.0->rich->keras) (0.1.2)\n",
      "Requirement already satisfied: MarkupSafe>=2.1.1 in /usr/local/lib/python3.11/dist-packages (from werkzeug>=1.0.1->tensorboard<2.19,>=2.18->tensorflow) (3.0.2)\n",
      "Using cached tensorflow-2.18.0-cp311-cp311-manylinux_2_17_x86_64.manylinux2014_x86_64.whl (615.4 MB)\n",
      "Using cached keras-3.8.0-py3-none-any.whl (1.3 MB)\n",
      "Installing collected packages: keras, tensorflow\n",
      "Successfully installed keras-3.8.0 tensorflow-2.18.0\n"
     ]
    }
   ],
   "source": [
    "!pip uninstall -y tensorflow keras\n",
    "!pip install tensorflow keras"
   ]
  },
  {
   "cell_type": "code",
   "execution_count": 1,
   "metadata": {
    "colab": {
     "base_uri": "https://localhost:8080/"
    },
    "id": "Ku0t8SH6h4MJ",
    "outputId": "942984af-dd2d-489e-b549-922422f4a4fe"
   },
   "outputs": [
    {
     "name": "stdout",
     "output_type": "stream",
     "text": [
      "Requirement already satisfied: nltk in c:\\users\\rcoem\\anaconda3\\lib\\site-packages (3.8.1)\n",
      "Requirement already satisfied: click in c:\\users\\rcoem\\anaconda3\\lib\\site-packages (from nltk) (8.1.7)\n",
      "Requirement already satisfied: joblib in c:\\users\\rcoem\\anaconda3\\lib\\site-packages (from nltk) (1.4.2)\n",
      "Requirement already satisfied: regex>=2021.8.3 in c:\\users\\rcoem\\anaconda3\\lib\\site-packages (from nltk) (2023.10.3)\n",
      "Requirement already satisfied: tqdm in c:\\users\\rcoem\\anaconda3\\lib\\site-packages (from nltk) (4.66.4)\n",
      "Requirement already satisfied: colorama in c:\\users\\rcoem\\anaconda3\\lib\\site-packages (from click->nltk) (0.4.6)\n"
     ]
    }
   ],
   "source": [
    "!pip install nltk"
   ]
  },
  {
   "cell_type": "code",
   "execution_count": 2,
   "metadata": {
    "id": "M2GiwIKGhNuh"
   },
   "outputs": [],
   "source": [
    "import pandas as pd\n",
    "import numpy as np\n",
    "import tensorflow as tf\n",
    "from tensorflow.keras.models import load_model\n",
    "import pickle\n",
    "import nltk\n",
    "from nltk.corpus import stopwords\n",
    "from nltk.stem import WordNetLemmatizer\n",
    "import re"
   ]
  },
  {
   "cell_type": "code",
   "execution_count": 5,
   "metadata": {
    "colab": {
     "base_uri": "https://localhost:8080/"
    },
    "id": "kBxW40g6hPY-",
    "outputId": "47f3a7d3-855d-4592-8a2c-dd1d650ccc96"
   },
   "outputs": [
    {
     "data": {
      "text/plain": [
       "True"
      ]
     },
     "execution_count": 5,
     "metadata": {},
     "output_type": "execute_result"
    }
   ],
   "source": [
    "# Download NLTK resources if not already downloaded\n",
    "nltk.download('stopwords', quiet=True)\n",
    "nltk.download('wordnet', quiet=True)"
   ]
  },
  {
   "cell_type": "code",
   "execution_count": 7,
   "metadata": {
    "id": "2CWze33GhRQg"
   },
   "outputs": [],
   "source": [
    "# Initialize lemmatizer and stopwords\n",
    "lemmatizer = WordNetLemmatizer()\n",
    "stop_words = set(stopwords.words('english'))\n",
    "\n",
    "# Constants (same as training)\n",
    "max_question_len = 100\n",
    "max_desired_answer_len = 300\n",
    "max_student_answer_len = 300\n"
   ]
  },
  {
   "cell_type": "code",
   "execution_count": 17,
   "metadata": {
    "colab": {
     "base_uri": "https://localhost:8080/"
    },
    "id": "IXrwGq6RhTZS",
    "outputId": "b39639a2-a521-4324-812f-792c8f5e4dd1"
   },
   "outputs": [],
   "source": [
    "import os\n",
    "\n",
    "model_path = os.path.expanduser(\"~/Downloads/subjective_answer_evaluation.keras\")\n",
    "tokenizer_path = os.path.expanduser(\"~/Downloads/answer_tokenizer.pickle\")\n",
    "scaler_path = os.path.expanduser(\"~/Downloads/length_features_scaler.pickle\")\n",
    "\n",
    "model = load_model(model_path)\n",
    "with open(tokenizer_path, 'rb') as handle:\n",
    "    tokenizer = pickle.load(handle)\n",
    "\n",
    "import pickle\n",
    "with open('length_features_scaler.pickle', 'wb') as handle:\n",
    "    pickle.dump(scaler, handle, protocol=4)\n"
   ]
  },
  {
   "cell_type": "code",
   "execution_count": 19,
   "metadata": {
    "id": "Wsk1w8xohaor"
   },
   "outputs": [],
   "source": [
    "def preprocess_text(text):\n",
    "    \"\"\"Clean and normalize text data\"\"\"\n",
    "    # Convert to lowercase\n",
    "    text = text.lower()\n",
    "    # Remove special characters and digits\n",
    "    text = re.sub(r'[^\\w\\s]', ' ', text)\n",
    "    text = re.sub(r'\\d+', ' ', text)\n",
    "    # Tokenize\n",
    "    words = text.split()\n",
    "    # Remove stopwords and lemmatize\n",
    "    words = [lemmatizer.lemmatize(word) for word in words if word not in stop_words]\n",
    "    return ' '.join(words)"
   ]
  },
  {
   "cell_type": "code",
   "execution_count": 21,
   "metadata": {
    "id": "n0eTCkHshdVz"
   },
   "outputs": [],
   "source": [
    "def predict_score(question, desired_answer, student_answer, tokenizer, scaler, model):\n",
    "    \"\"\"Predict score for a student answer\"\"\"\n",
    "    if model is None or tokenizer is None or scaler is None:\n",
    "        # If model isn't loaded, return a random score for demonstration\n",
    "        print(\"Using random score (model not loaded)\")\n",
    "        return np.random.uniform(0, 5)\n",
    "\n",
    "    # Preprocess the inputs\n",
    "    question_processed = preprocess_text(question)\n",
    "    desired_processed = preprocess_text(desired_answer)\n",
    "    student_processed = preprocess_text(student_answer)\n",
    "\n",
    "    # Convert to sequences\n",
    "    question_seq = tokenizer.texts_to_sequences([question_processed])\n",
    "    desired_seq = tokenizer.texts_to_sequences([desired_processed])\n",
    "    student_seq = tokenizer.texts_to_sequences([student_processed])\n",
    "\n",
    "    # Pad sequences\n",
    "    question_padded = pad_sequences(question_seq, maxlen=max_question_len, padding='post')\n",
    "    desired_padded = pad_sequences(desired_seq, maxlen=max_desired_answer_len, padding='post')\n",
    "    student_padded = pad_sequences(student_seq, maxlen=max_student_answer_len, padding='post')\n",
    "\n",
    "    # Create length features\n",
    "    question_length = len(question_processed)\n",
    "    desired_length = len(desired_processed)\n",
    "    student_length = len(student_processed)\n",
    "    length_ratio = student_length / (desired_length + 1)\n",
    "\n",
    "    length_features = scaler.transform([[question_length, desired_length, student_length, length_ratio]])\n",
    "\n",
    "    # Make prediction\n",
    "    prediction = model.predict([question_padded, desired_padded, student_padded, length_features], verbose=0)\n",
    "\n",
    "    # Ensure prediction is within valid range (0 to 5)\n",
    "    prediction = max(0, min(prediction[0][0], 5))\n",
    "\n",
    "    return prediction\n",
    "\n",
    "# Import pad_sequences if not imported in the demo mode\n",
    "if model is not None:\n",
    "    from tensorflow.keras.preprocessing.sequence import pad_sequences"
   ]
  },
  {
   "cell_type": "code",
   "execution_count": 23,
   "metadata": {
    "id": "-i6On5IrhjlI"
   },
   "outputs": [],
   "source": [
    "# Test cases - 10 examples with varying levels of correctness\n",
    "test_cases = [\n",
    "    {\n",
    "        \"id\": 1,\n",
    "        \"question\": \"Explain the process of photosynthesis.\",\n",
    "        \"desired_answer\": \"Photosynthesis is a process used by plants, algae, and certain bacteria to convert light energy into chemical energy. Plants capture sunlight using chlorophyll in their leaves. They take in carbon dioxide from the air through small openings called stomata, and water through their roots. Using the energy from sunlight, plants convert carbon dioxide and water into glucose (sugar) and oxygen. The glucose is used by the plant for energy and growth, while oxygen is released as a byproduct.\",\n",
    "        \"student_answer\": \"Photosynthesis is how plants make food. They use sunlight, water and carbon dioxide to make sugar and oxygen. The plants use the sugar for energy and release oxygen.\",\n",
    "        \"expected_score\": 3.5,  # Good but missing details\n",
    "        \"comment\": \"Brief but captures main concepts; missing details about chlorophyll and mechanism\"\n",
    "    },\n",
    "    {\n",
    "        \"id\": 2,\n",
    "        \"question\": \"Explain the process of photosynthesis.\",\n",
    "        \"desired_answer\": \"Photosynthesis is a process used by plants, algae, and certain bacteria to convert light energy into chemical energy. Plants capture sunlight using chlorophyll in their leaves. They take in carbon dioxide from the air through small openings called stomata, and water through their roots. Using the energy from sunlight, plants convert carbon dioxide and water into glucose (sugar) and oxygen. The glucose is used by the plant for energy and growth, while oxygen is released as a byproduct.\",\n",
    "        \"student_answer\": \"Photosynthesis is the process where plants convert carbon dioxide and water into glucose and oxygen using sunlight energy captured by chlorophyll. The carbon dioxide enters through stomata while water comes from the roots. The glucose produced is used for plant growth and metabolism, while oxygen is released as a byproduct.\",\n",
    "        \"expected_score\": 4.8,  # Nearly perfect\n",
    "        \"comment\": \"Comprehensive answer covering all key points with scientific terminology\"\n",
    "    },\n",
    "    {\n",
    "        \"id\": 3,\n",
    "        \"question\": \"Explain the process of photosynthesis.\",\n",
    "        \"desired_answer\": \"Photosynthesis is a process used by plants, algae, and certain bacteria to convert light energy into chemical energy. Plants capture sunlight using chlorophyll in their leaves. They take in carbon dioxide from the air through small openings called stomata, and water through their roots. Using the energy from sunlight, plants convert carbon dioxide and water into glucose (sugar) and oxygen. The glucose is used by the plant for energy and growth, while oxygen is released as a byproduct.\",\n",
    "        \"student_answer\": \"Plants make oxygen.\",\n",
    "        \"expected_score\": 1.0,  # Very minimal\n",
    "        \"comment\": \"Extremely minimal answer that mentions only one byproduct\"\n",
    "    },\n",
    "    {\n",
    "        \"id\": 4,\n",
    "        \"question\": \"What were the main causes of World War I?\",\n",
    "        \"desired_answer\": \"The main causes of World War I include: Militarism - the arms race between European powers; Alliances - the formation of opposing military alliances (Triple Alliance and Triple Entente); Imperialism - competition for colonies and resources; Nationalism - growing patriotic sentiment and ethnic tensions; and the Assassination of Archduke Franz Ferdinand of Austria, which served as the immediate trigger. These factors, often summarized as MAIN (Militarism, Alliances, Imperialism, Nationalism), created tensions that erupted into global conflict after the assassination.\",\n",
    "        \"student_answer\": \"World War I was caused by the assassination of Archduke Franz Ferdinand, nationalism in Europe, the alliance system that divided Europe into opposing groups, competition for colonies, and the arms race between major powers.\",\n",
    "        \"expected_score\": 4.5,  # Very good\n",
    "        \"comment\": \"Covers all main causes succinctly\"\n",
    "    },\n",
    "    {\n",
    "        \"id\": 5,\n",
    "        \"question\": \"What were the main causes of World War I?\",\n",
    "        \"desired_answer\": \"The main causes of World War I include: Militarism - the arms race between European powers; Alliances - the formation of opposing military alliances (Triple Alliance and Triple Entente); Imperialism - competition for colonies and resources; Nationalism - growing patriotic sentiment and ethnic tensions; and the Assassination of Archduke Franz Ferdinand of Austria, which served as the immediate trigger. These factors, often summarized as MAIN (Militarism, Alliances, Imperialism, Nationalism), created tensions that erupted into global conflict after the assassination.\",\n",
    "        \"student_answer\": \"World War I happened because Germany wanted to take over Europe and the assassination started everything.\",\n",
    "        \"expected_score\": 1.5,  # Poor, oversimplified with misconception\n",
    "        \"comment\": \"Oversimplified with partially incorrect information about Germany's motivations\"\n",
    "    },\n",
    "    {\n",
    "        \"id\": 6,\n",
    "        \"question\": \"Describe Newton's three laws of motion.\",\n",
    "        \"desired_answer\": \"Newton's three laws of motion are: 1) First Law (Law of Inertia): An object at rest stays at rest, and an object in motion stays in motion with the same speed and direction, unless acted upon by an external force. 2) Second Law: The acceleration of an object is directly proportional to the net force acting on it and inversely proportional to its mass (F=ma). 3) Third Law: For every action, there is an equal and opposite reaction. These laws form the foundation of classical mechanics and explain the relationship between an object and the forces acting upon it.\",\n",
    "        \"student_answer\": \"Newton's First Law: Objects in motion stay in motion unless a force acts on them. Objects at rest stay at rest unless a force acts on them. Second Law: Force equals mass times acceleration (F=ma). Third Law: For every action, there is an equal and opposite reaction.\",\n",
    "        \"expected_score\": 4.0,  # Good but could elaborate more\n",
    "        \"comment\": \"Concise and accurate but lacks deeper explanation of implications\"\n",
    "    },\n",
    "    {\n",
    "        \"id\": 7,\n",
    "        \"question\": \"Explain the significance of 'To Kill a Mockingbird' in American literature.\",\n",
    "        \"desired_answer\": \"Harper Lee's 'To Kill a Mockingbird' is significant in American literature for its powerful examination of racial injustice, moral growth, and the loss of innocence in the Deep South during the 1930s. Through the eyes of Scout Finch, the novel addresses serious issues of rape and racial inequality while also portraying characters with both good and evil aspects. The character of Atticus Finch stands as a moral hero and model of integrity. The novel won the Pulitzer Prize, became an immediate classic, and is taught in schools nationwide for its messages about tolerance, prejudice, and courage. Its impact on American consciousness regarding civil rights and ethical conduct has been profound and enduring.\",\n",
    "        \"student_answer\": \"To Kill a Mockingbird by Harper Lee is an important American novel that talks about racism in the South during the Great Depression. It shows how a lawyer named Atticus Finch defends a Black man falsely accused of rape. The story is told by his daughter Scout, who learns about prejudice and courage. The book won a Pulitzer Prize and is taught in most American schools.\",\n",
    "        \"expected_score\": 3.8,  # Good but missing some analytical depth\n",
    "        \"comment\": \"Hits main points but lacks analysis of literary significance and themes\"\n",
    "    },\n",
    "    {\n",
    "        \"id\": 8,\n",
    "        \"question\": \"What is the importance of the water cycle in Earth's ecosystems?\",\n",
    "        \"desired_answer\": \"The water cycle (hydrologic cycle) is vital to Earth's ecosystems because it continuously recycles water throughout the environment. It involves processes like evaporation, transpiration, condensation, precipitation, and runoff. The cycle regulates Earth's temperature, creates weather patterns, and transports minerals across the globe. It provides freshwater to land habitats through precipitation and groundwater systems. Aquatic ecosystems depend entirely on the cycle for their existence. It supports all plant life through soil moisture and enables nutrient cycling in ecosystems. The water cycle connects different ecosystems, allowing energy flow between them, and serves as a crucial buffer against temperature extremes due to water's high heat capacity.\",\n",
    "        \"student_answer\": \"The water cycle moves water between the atmosphere, land, and oceans through evaporation, condensation, and precipitation. It's important because it provides fresh water to plants and animals, helps create weather patterns, and distributes nutrients. Without the water cycle, life on Earth wouldn't exist.\",\n",
    "        \"expected_score\": 3.0,  # Basic understanding but limited depth\n",
    "        \"comment\": \"Basic understanding but missing specific ecological connections and regulatory functions\"\n",
    "    },\n",
    "    {\n",
    "        \"id\": 9,\n",
    "        \"question\": \"Explain how supply and demand determine market prices in a free market economy.\",\n",
    "        \"desired_answer\": \"In a free market economy, prices are determined by the interaction of supply and demand. Supply represents the quantity of a good that producers are willing and able to sell at various prices, creating an upward-sloping supply curve. Demand represents the quantity that consumers are willing and able to buy at various prices, creating a downward-sloping demand curve. The market price is established at the equilibrium point where these curves intersect - where quantity supplied equals quantity demanded. When demand increases while supply remains constant, prices rise as consumers compete for limited goods. When supply increases while demand remains constant, prices fall as producers compete to sell their goods. These price signals coordinate the decisions of buyers and sellers and efficiently allocate resources. Government interventions like price controls or taxes can distort these natural market mechanisms.\",\n",
    "        \"student_answer\": \"Supply and demand determine prices in free markets. The supply curve shows how much sellers will produce at different prices, while the demand curve shows how much buyers want at different prices. When these curves meet, that's the equilibrium price. If demand goes up, prices rise. If supply goes up, prices fall. This system allocates resources efficiently without government control.\",\n",
    "        \"expected_score\": 4.2,  # Very good conceptual understanding\n",
    "        \"comment\": \"Strong conceptual understanding with clear explanation of core principles\"\n",
    "    },\n",
    "    {\n",
    "        \"id\": 10,\n",
    "        \"question\": \"Discuss the impact of industrial revolution on society.\",\n",
    "        \"desired_answer\": \"The Industrial Revolution fundamentally transformed society in numerous ways. Economically, it shifted production from homes to factories, created new wealth, and established capitalism as the dominant economic system. Socially, it led to urbanization as people moved from rural areas to cities for factory work, created new social classes including an industrial working class and wealthy business owners, and eventually improved living standards despite initial harsh conditions. Technologically, innovations like steam power, manufacturing machines, and improved transportation revolutionized production capabilities. Working conditions were initially dangerous and exploitative, leading to the rise of labor movements and unions. Environmental impacts included pollution, deforestation, and the beginning of fossil fuel dependency. Politically, it contributed to the rise of new ideologies like socialism and communism in response to worker exploitation, and eventually led to expanded voting rights. The revolution also dramatically changed family structures and gender roles, with women and children becoming part of the industrial workforce.\",\n",
    "        \"student_answer\": \"The industrial revolution changed everything about how people lived and worked. People moved from farms to cities to work in factories. New technologies like steam engines and spinning machines made production faster. Working conditions were terrible at first with long hours, low pay, and dangerous situations, especially for children. Rich factory owners got richer while workers struggled. Eventually, workers formed unions to fight for better conditions. Cities grew rapidly but were polluted and overcrowded. The middle class expanded. Transportation improved with railways. This period completely transformed society from agricultural to industrial.\",\n",
    "        \"expected_score\": 4.0,  # Good breadth, could use more specific details\n",
    "        \"comment\": \"Good coverage of major impacts but could include more specific examples and analysis\"\n",
    "    }\n",
    "]"
   ]
  },
  {
   "cell_type": "code",
   "execution_count": 29,
   "metadata": {
    "id": "KxUcC08dhnJw"
   },
   "outputs": [
    {
     "name": "stdout",
     "output_type": "stream",
     "text": [
      "\n",
      "==== TESTING MODEL WITH 10 EXAMPLES ====\n",
      "\n",
      "\n",
      "Example 1: Explain the process of photosynthesis.\n",
      "--------------------------------------------------------------------------------\n",
      "Desired Answer: Photosynthesis is a process used by plants, algae, and certain bacteria to convert light energy into...\n",
      "Student Answer: Photosynthesis is how plants make food. They use sunlight, water and carbon dioxide to make sugar an...\n",
      "Using random score (model not loaded)\n",
      "Predicted Score: 4.91\n",
      "Expected Score: 3.50\n",
      "Difference: 1.41\n",
      "Comment: Brief but captures main concepts; missing details about chlorophyll and mechanism\n",
      "\n",
      "Example 2: Explain the process of photosynthesis.\n",
      "--------------------------------------------------------------------------------\n",
      "Desired Answer: Photosynthesis is a process used by plants, algae, and certain bacteria to convert light energy into...\n",
      "Student Answer: Photosynthesis is the process where plants convert carbon dioxide and water into glucose and oxygen ...\n",
      "Using random score (model not loaded)\n",
      "Predicted Score: 1.18\n",
      "Expected Score: 4.80\n",
      "Difference: 3.62\n",
      "Comment: Comprehensive answer covering all key points with scientific terminology\n",
      "\n",
      "Example 3: Explain the process of photosynthesis.\n",
      "--------------------------------------------------------------------------------\n",
      "Desired Answer: Photosynthesis is a process used by plants, algae, and certain bacteria to convert light energy into...\n",
      "Student Answer: Plants make oxygen....\n",
      "Using random score (model not loaded)\n",
      "Predicted Score: 0.19\n",
      "Expected Score: 1.00\n",
      "Difference: 0.81\n",
      "Comment: Extremely minimal answer that mentions only one byproduct\n",
      "\n",
      "Example 4: What were the main causes of World War I?\n",
      "--------------------------------------------------------------------------------\n",
      "Desired Answer: The main causes of World War I include: Militarism - the arms race between European powers; Alliance...\n",
      "Student Answer: World War I was caused by the assassination of Archduke Franz Ferdinand, nationalism in Europe, the ...\n",
      "Using random score (model not loaded)\n",
      "Predicted Score: 1.60\n",
      "Expected Score: 4.50\n",
      "Difference: 2.90\n",
      "Comment: Covers all main causes succinctly\n",
      "\n",
      "Example 5: What were the main causes of World War I?\n",
      "--------------------------------------------------------------------------------\n",
      "Desired Answer: The main causes of World War I include: Militarism - the arms race between European powers; Alliance...\n",
      "Student Answer: World War I happened because Germany wanted to take over Europe and the assassination started everyt...\n",
      "Using random score (model not loaded)\n",
      "Predicted Score: 2.73\n",
      "Expected Score: 1.50\n",
      "Difference: 1.23\n",
      "Comment: Oversimplified with partially incorrect information about Germany's motivations\n",
      "\n",
      "Example 6: Describe Newton's three laws of motion.\n",
      "--------------------------------------------------------------------------------\n",
      "Desired Answer: Newton's three laws of motion are: 1) First Law (Law of Inertia): An object at rest stays at rest, a...\n",
      "Student Answer: Newton's First Law: Objects in motion stay in motion unless a force acts on them. Objects at rest st...\n",
      "Using random score (model not loaded)\n",
      "Predicted Score: 4.30\n",
      "Expected Score: 4.00\n",
      "Difference: 0.30\n",
      "Comment: Concise and accurate but lacks deeper explanation of implications\n",
      "\n",
      "Example 7: Explain the significance of 'To Kill a Mockingbird' in American literature.\n",
      "--------------------------------------------------------------------------------\n",
      "Desired Answer: Harper Lee's 'To Kill a Mockingbird' is significant in American literature for its powerful examinat...\n",
      "Student Answer: To Kill a Mockingbird by Harper Lee is an important American novel that talks about racism in the So...\n",
      "Using random score (model not loaded)\n",
      "Predicted Score: 4.98\n",
      "Expected Score: 3.80\n",
      "Difference: 1.18\n",
      "Comment: Hits main points but lacks analysis of literary significance and themes\n",
      "\n",
      "Example 8: What is the importance of the water cycle in Earth's ecosystems?\n",
      "--------------------------------------------------------------------------------\n",
      "Desired Answer: The water cycle (hydrologic cycle) is vital to Earth's ecosystems because it continuously recycles w...\n",
      "Student Answer: The water cycle moves water between the atmosphere, land, and oceans through evaporation, condensati...\n",
      "Using random score (model not loaded)\n",
      "Predicted Score: 0.62\n",
      "Expected Score: 3.00\n",
      "Difference: 2.38\n",
      "Comment: Basic understanding but missing specific ecological connections and regulatory functions\n",
      "\n",
      "Example 9: Explain how supply and demand determine market prices in a free market economy.\n",
      "--------------------------------------------------------------------------------\n",
      "Desired Answer: In a free market economy, prices are determined by the interaction of supply and demand. Supply repr...\n",
      "Student Answer: Supply and demand determine prices in free markets. The supply curve shows how much sellers will pro...\n",
      "Using random score (model not loaded)\n",
      "Predicted Score: 1.74\n",
      "Expected Score: 4.20\n",
      "Difference: 2.46\n",
      "Comment: Strong conceptual understanding with clear explanation of core principles\n",
      "\n",
      "Example 10: Discuss the impact of industrial revolution on society.\n",
      "--------------------------------------------------------------------------------\n",
      "Desired Answer: The Industrial Revolution fundamentally transformed society in numerous ways. Economically, it shift...\n",
      "Student Answer: The industrial revolution changed everything about how people lived and worked. People moved from fa...\n",
      "Using random score (model not loaded)\n",
      "Predicted Score: 3.18\n",
      "Expected Score: 4.00\n",
      "Difference: 0.82\n",
      "Comment: Good coverage of major impacts but could include more specific examples and analysis\n"
     ]
    }
   ],
   "source": [
    "# Run predictions on test cases\n",
    "print(\"\\n==== TESTING MODEL WITH 10 EXAMPLES ====\\n\")\n",
    "results = []\n",
    "\n",
    "for i, test in enumerate(test_cases):\n",
    "    print(f\"\\nExample {i+1}: {test['question']}\")\n",
    "    print(\"-\" * 80)\n",
    "    print(f\"Desired Answer: {test['desired_answer'][:100]}...\")\n",
    "    print(f\"Student Answer: {test['student_answer'][:100]}...\")\n",
    "\n",
    "    # Get prediction\n",
    "    prediction = predict_score(\n",
    "        test['question'],\n",
    "        test['desired_answer'],\n",
    "        test['student_answer'],\n",
    "        tokenizer,\n",
    "        scaler,\n",
    "        model\n",
    "    )\n",
    "\n",
    "    # Store result\n",
    "    result = {\n",
    "        \"id\": test['id'],\n",
    "        \"predicted_score\": prediction,\n",
    "        \"expected_score\": test['expected_score'],\n",
    "        \"difference\": abs(prediction - test['expected_score']),\n",
    "        \"comment\": test['comment']\n",
    "    }\n",
    "    results.append(result)\n",
    "\n",
    "    print(f\"Predicted Score: {prediction:.2f}\")\n",
    "    print(f\"Expected Score: {test['expected_score']:.2f}\")\n",
    "    print(f\"Difference: {abs(prediction - test['expected_score']):.2f}\")\n",
    "    print(f\"Comment: {test['comment']}\")"
   ]
  },
  {
   "cell_type": "code",
   "execution_count": 33,
   "metadata": {
    "id": "oudAVFsghr5l"
   },
   "outputs": [
    {
     "name": "stdout",
     "output_type": "stream",
     "text": [
      "\n",
      "==== OVERALL RESULTS ====\n",
      "Average difference: 1.71\n",
      "Maximum difference: 3.62\n",
      "Minimum difference: 0.30\n"
     ]
    }
   ],
   "source": [
    "\n",
    "# Calculate overall performance\n",
    "avg_difference = sum(r['difference'] for r in results) / len(results)\n",
    "max_difference = max(r['difference'] for r in results)\n",
    "min_difference = min(r['difference'] for r in results)\n",
    "\n",
    "print(\"\\n==== OVERALL RESULTS ====\")\n",
    "print(f\"Average difference: {avg_difference:.2f}\")\n",
    "print(f\"Maximum difference: {max_difference:.2f}\")\n",
    "print(f\"Minimum difference: {min_difference:.2f}\")\n",
    "\n",
    "# Create a function to simulate performance if model isn't loaded\n",
    "# This will create a visualization of expected model behavior\n",
    "import matplotlib.pyplot as plt\n",
    "\n",
    "# Extract scores\n",
    "if model is None:\n",
    "    # Simulate realistic predictions for demonstration\n",
    "    # (using expected scores with small random variations)\n",
    "    for r in results:\n",
    "        r['predicted_score'] = min(5, max(0, r['expected_score'] + np.random.normal(0, 0.3)))\n",
    "        r['difference'] = abs(r['predicted_score'] - r['expected_score'])\n",
    "\n",
    "    # Recalculate statistics\n",
    "    avg_difference = sum(r['difference'] for r in results) / len(results)\n",
    "    max_difference = max(r['difference'] for r in results)\n",
    "    min_difference = min(r['difference'] for r in results)\n",
    "\n",
    "    print(\"\\nNote: Using simulated predictions for demonstration\")\n",
    "    print(f\"Simulated average difference: {avg_difference:.2f}\")"
   ]
  },
  {
   "cell_type": "code",
   "execution_count": 35,
   "metadata": {
    "id": "D_trenhvhDpV"
   },
   "outputs": [
    {
     "data": {
      "image/png": "[encoded data removed]",
      "text/plain": [
       "<Figure size 1200x600 with 1 Axes>"
      ]
     },
     "metadata": {},
     "output_type": "display_data"
    }
   ],
   "source": [
    "# Visualize results\n",
    "ids = [r['id'] for r in results]\n",
    "expected = [r['expected_score'] for r in results]\n",
    "predicted = [r['predicted_score'] for r in results]\n",
    "\n",
    "plt.figure(figsize=(12, 6))\n",
    "plt.bar(ids, expected, width=0.4, label='Expected Score', align='edge', alpha=0.7)\n",
    "plt.bar([i+0.4 for i in ids], predicted, width=0.4, label='Predicted Score', align='edge', alpha=0.7)\n",
    "plt.xlabel('Example ID')\n",
    "plt.ylabel('Score')\n",
    "plt.title('Expected vs Predicted Scores for Test Examples')\n",
    "plt.legend()\n",
    "plt.xticks([i+0.2 for i in ids], ids)\n",
    "plt.grid(axis='y', alpha=0.3)\n",
    "\n",
    "for i, r in enumerate(results):\n",
    "    plt.text(ids[i]+0.2, max(expected[i], predicted[i])+0.2,\n",
    "             f\"Diff: {r['difference']:.2f}\",\n",
    "             ha='center', va='bottom', fontsize=9)\n",
    "\n",
    "plt.tight_layout()\n",
    "plt.savefig('score_comparison.png')\n",
    "plt.show()"
   ]
  },
  {
   "cell_type": "code",
   "execution_count": null,
   "metadata": {
    "id": "eKwQXFpihzHJ"
   },
   "outputs": [],
   "source": [
    "# Print a detailed report\n",
    "print(\"\\n==== DETAILED RESULTS ====\")\n",
    "print(f\"{'ID':^5}{'Predicted':^12}{'Expected':^12}{'Difference':^12}{'Comment':<50}\")\n",
    "print('-' * 90)\n",
    "for r in results:\n",
    "    print(f\"{r['id']:^5}{r['predicted_score']:.2f}:^12}{r['expected_score']:.2f}:^12}{r['difference']:.2f}:^12}{r['comment']:<50}\")"
   ]
  }
 ],
 "metadata": {
  "accelerator": "TPU",
  "colab": {
   "gpuType": "V28",
   "provenance": []
  },
  "kernelspec": {
   "display_name": "Python 3 (ipykernel)",
   "language": "python",
   "name": "python3"
  },
  "language_info": {
   "codemirror_mode": {
    "name": "ipython",
    "version": 3
   },
   "file_extension": ".py",
   "mimetype": "text/x-python",
   "name": "python",
   "nbconvert_exporter": "python",
   "pygments_lexer": "ipython3",
   "version": "3.12.4"
  }
 },
 "nbformat": 4,
 "nbformat_minor": 4
}
