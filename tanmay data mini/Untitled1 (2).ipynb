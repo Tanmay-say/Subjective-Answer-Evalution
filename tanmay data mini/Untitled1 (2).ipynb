{
 "cells": [
  {
   "cell_type": "code",
   "execution_count": 1,
   "metadata": {
    "colab": {
     "base_uri": "https://localhost:8080/"
    },
    "id": "NQ8BJBKeId3K",
    "outputId": "28b25fda-f842-40e9-e953-217bf6be99a9"
   },
   "outputs": [
    {
     "name": "stdout",
     "output_type": "stream",
     "text": [
      "Defaulting to user installation because normal site-packages is not writeable\n",
      "Requirement already satisfied: gensim in c:\\users\\lenovo\\appdata\\roaming\\python\\python312\\site-packages (4.3.3)\n",
      "Requirement already satisfied: numpy<2.0,>=1.18.5 in c:\\users\\lenovo\\appdata\\roaming\\python\\python312\\site-packages (from gensim) (1.26.4)\n",
      "Requirement already satisfied: scipy<1.14.0,>=1.7.0 in c:\\users\\lenovo\\appdata\\roaming\\python\\python312\\site-packages (from gensim) (1.13.1)\n",
      "Requirement already satisfied: smart-open>=1.8.1 in c:\\users\\lenovo\\appdata\\roaming\\python\\python312\\site-packages (from gensim) (7.1.0)\n",
      "Requirement already satisfied: wrapt in c:\\users\\lenovo\\appdata\\roaming\\python\\python312\\site-packages (from smart-open>=1.8.1->gensim) (1.17.2)\n"
     ]
    },
    {
     "name": "stderr",
     "output_type": "stream",
     "text": [
      "\n",
      "[notice] A new release of pip is available: 24.3.1 -> 25.0.1\n",
      "[notice] To update, run: python.exe -m pip install --upgrade pip\n"
     ]
    }
   ],
   "source": [
    "!pip install gensim"
   ]
  },
  {
   "cell_type": "code",
   "execution_count": 7,
   "metadata": {
    "colab": {
     "base_uri": "https://localhost:8080/",
     "height": 1000
    },
    "id": "fxsBIpUrIwQ3",
    "outputId": "077992fc-7c2f-4448-8f8c-af6127b2cb8d"
   },
   "outputs": [
    {
     "name": "stdout",
     "output_type": "stream",
     "text": [
      "Requirement already satisfied: numpy in /usr/local/lib/python3.11/dist-packages (1.26.4)\n",
      "Collecting numpy\n",
      "  Downloading numpy-2.2.4-cp311-cp311-manylinux_2_17_x86_64.manylinux2014_x86_64.whl.metadata (62 kB)\n",
      "\u001b[2K     \u001b[90m━━━━━━━━━━━━━━━━━━━━━━━━━━━━━━━━━━━━━━━━\u001b[0m \u001b[32m62.0/62.0 kB\u001b[0m \u001b[31m2.4 MB/s\u001b[0m eta \u001b[36m0:00:00\u001b[0m\n",
      "\u001b[?25hDownloading numpy-2.2.4-cp311-cp311-manylinux_2_17_x86_64.manylinux2014_x86_64.whl (16.4 MB)\n",
      "\u001b[2K   \u001b[90m━━━━━━━━━━━━━━━━━━━━━━━━━━━━━━━━━━━━━━━━\u001b[0m \u001b[32m16.4/16.4 MB\u001b[0m \u001b[31m36.5 MB/s\u001b[0m eta \u001b[36m0:00:00\u001b[0m\n",
      "\u001b[?25hInstalling collected packages: numpy\n",
      "  Attempting uninstall: numpy\n",
      "    Found existing installation: numpy 1.26.4\n",
      "    Uninstalling numpy-1.26.4:\n",
      "      Successfully uninstalled numpy-1.26.4\n",
      "\u001b[31mERROR: pip's dependency resolver does not currently take into account all the packages that are installed. This behaviour is the source of the following dependency conflicts.\n",
      "gensim 4.3.3 requires numpy<2.0,>=1.18.5, but you have numpy 2.2.4 which is incompatible.\n",
      "numba 0.60.0 requires numpy<2.1,>=1.22, but you have numpy 2.2.4 which is incompatible.\n",
      "tensorflow 2.18.0 requires numpy<2.1.0,>=1.26.0, but you have numpy 2.2.4 which is incompatible.\u001b[0m\u001b[31m\n",
      "\u001b[0mSuccessfully installed numpy-2.2.4\n",
      "Collecting gensim\n",
      "  Using cached gensim-4.3.3-cp311-cp311-manylinux_2_17_x86_64.manylinux2014_x86_64.whl.metadata (8.1 kB)\n",
      "Collecting numpy<2.0,>=1.18.5 (from gensim)\n",
      "  Using cached numpy-1.26.4-cp311-cp311-manylinux_2_17_x86_64.manylinux2014_x86_64.whl.metadata (61 kB)\n",
      "Collecting scipy<1.14.0,>=1.7.0 (from gensim)\n",
      "  Using cached scipy-1.13.1-cp311-cp311-manylinux_2_17_x86_64.manylinux2014_x86_64.whl.metadata (60 kB)\n",
      "Collecting smart-open>=1.8.1 (from gensim)\n",
      "  Downloading smart_open-7.1.0-py3-none-any.whl.metadata (24 kB)\n",
      "Collecting wrapt (from smart-open>=1.8.1->gensim)\n",
      "  Downloading wrapt-1.17.2-cp311-cp311-manylinux_2_5_x86_64.manylinux1_x86_64.manylinux_2_17_x86_64.manylinux2014_x86_64.whl.metadata (6.4 kB)\n",
      "Using cached gensim-4.3.3-cp311-cp311-manylinux_2_17_x86_64.manylinux2014_x86_64.whl (26.7 MB)\n",
      "Using cached numpy-1.26.4-cp311-cp311-manylinux_2_17_x86_64.manylinux2014_x86_64.whl (18.3 MB)\n",
      "Using cached scipy-1.13.1-cp311-cp311-manylinux_2_17_x86_64.manylinux2014_x86_64.whl (38.6 MB)\n",
      "Downloading smart_open-7.1.0-py3-none-any.whl (61 kB)\n",
      "\u001b[2K   \u001b[90m━━━━━━━━━━━━━━━━━━━━━━━━━━━━━━━━━━━━━━━━\u001b[0m \u001b[32m61.7/61.7 kB\u001b[0m \u001b[31m2.4 MB/s\u001b[0m eta \u001b[36m0:00:00\u001b[0m\n",
      "\u001b[?25hDownloading wrapt-1.17.2-cp311-cp311-manylinux_2_5_x86_64.manylinux1_x86_64.manylinux_2_17_x86_64.manylinux2014_x86_64.whl (83 kB)\n",
      "\u001b[2K   \u001b[90m━━━━━━━━━━━━━━━━━━━━━━━━━━━━━━━━━━━━━━━━\u001b[0m \u001b[32m83.2/83.2 kB\u001b[0m \u001b[31m5.0 MB/s\u001b[0m eta \u001b[36m0:00:00\u001b[0m\n",
      "\u001b[?25hInstalling collected packages: wrapt, numpy, smart-open, scipy, gensim\n",
      "  Attempting uninstall: wrapt\n",
      "    Found existing installation: wrapt 1.17.2\n",
      "    Uninstalling wrapt-1.17.2:\n",
      "      Successfully uninstalled wrapt-1.17.2\n",
      "  Attempting uninstall: numpy\n",
      "    Found existing installation: numpy 2.2.4\n",
      "    Uninstalling numpy-2.2.4:\n",
      "      Successfully uninstalled numpy-2.2.4\n",
      "  Attempting uninstall: smart-open\n",
      "    Found existing installation: smart-open 7.1.0\n",
      "    Uninstalling smart-open-7.1.0:\n",
      "      Successfully uninstalled smart-open-7.1.0\n",
      "  Attempting uninstall: scipy\n",
      "    Found existing installation: scipy 1.13.1\n",
      "    Uninstalling scipy-1.13.1:\n",
      "      Successfully uninstalled scipy-1.13.1\n",
      "  Attempting uninstall: gensim\n",
      "    Found existing installation: gensim 4.3.3\n",
      "    Uninstalling gensim-4.3.3:\n",
      "      Successfully uninstalled gensim-4.3.3\n",
      "Successfully installed gensim-4.3.3 numpy-1.26.4 scipy-1.13.1 smart-open-7.1.0 wrapt-1.17.2\n"
     ]
    },
    {
     "data": {
      "application/vnd.colab-display-data+json": {
       "id": "f5b8dfdfea8941f78e193ac0a522e6aa",
       "pip_warning": {
        "packages": [
         "wrapt"
        ]
       }
      }
     },
     "metadata": {},
     "output_type": "display_data"
    }
   ],
   "source": [
    "!pip install --upgrade numpy  # Upgrade NumPy to the latest version\n",
    "!pip install --upgrade --force-reinstall gensim  # Reinstall gensim"
   ]
  },
  {
   "cell_type": "code",
   "execution_count": 2,
   "metadata": {
    "id": "BgH21sw-IBG6"
   },
   "outputs": [],
   "source": [
    "import pandas as pd\n",
    "import numpy as np\n",
    "import re\n",
    "import nltk\n",
    "import matplotlib.pyplot as plt\n",
    "from nltk.tokenize import word_tokenize\n",
    "from nltk.corpus import stopwords\n",
    "from nltk.stem import WordNetLemmatizer\n",
    "from sklearn.feature_extraction.text import TfidfVectorizer\n",
    "from sklearn.metrics.pairwise import cosine_similarity\n",
    "from gensim.models import KeyedVectors\n",
    "from gensim.similarities import WmdSimilarity\n",
    "from tensorflow.keras.preprocessing.text import Tokenizer\n",
    "from tensorflow.keras.preprocessing.sequence import pad_sequences\n",
    "from tensorflow.keras.models import Sequential\n",
    "from tensorflow.keras.layers import Embedding, LSTM, Bidirectional, Dense, Dropout, Attention\n",
    "from tensorflow.keras.optimizers import Adam\n",
    "from tensorflow.keras.callbacks import ReduceLROnPlateau\n",
    "from sklearn.model_selection import train_test_split\n",
    "from sklearn.metrics import mean_absolute_error, mean_squared_error, r2_score\n",
    "\n",
    "# Enhancements:\n",
    "# - Added Bidirectional LSTM for better sequence understanding.\n",
    "# - Included Attention layer for improved focus on relevant parts of input.\n",
    "# - Added Adam optimizer with learning rate scheduling.\n",
    "# - Included ReduceLROnPlateau for adaptive learning rate adjustments.\n"
   ]
  },
  {
   "cell_type": "code",
   "execution_count": 3,
   "metadata": {
    "colab": {
     "base_uri": "https://localhost:8080/"
    },
    "id": "0oYD1IIqIN9r",
    "outputId": "27d9e53d-0220-49b7-b687-340ef414102c"
   },
   "outputs": [
    {
     "name": "stderr",
     "output_type": "stream",
     "text": [
      "[nltk_data] Downloading package punkt to\n",
      "[nltk_data]     C:\\Users\\Lenovo\\AppData\\Roaming\\nltk_data...\n",
      "[nltk_data]   Package punkt is already up-to-date!\n",
      "[nltk_data] Downloading package stopwords to\n",
      "[nltk_data]     C:\\Users\\Lenovo\\AppData\\Roaming\\nltk_data...\n",
      "[nltk_data]   Package stopwords is already up-to-date!\n",
      "[nltk_data] Downloading package wordnet to\n",
      "[nltk_data]     C:\\Users\\Lenovo\\AppData\\Roaming\\nltk_data...\n",
      "[nltk_data]   Package wordnet is already up-to-date!\n",
      "[nltk_data] Downloading package omw-1.4 to\n",
      "[nltk_data]     C:\\Users\\Lenovo\\AppData\\Roaming\\nltk_data...\n",
      "[nltk_data]   Package omw-1.4 is already up-to-date!\n",
      "[nltk_data] Downloading package averaged_perceptron_tagger to\n",
      "[nltk_data]     C:\\Users\\Lenovo\\AppData\\Roaming\\nltk_data...\n",
      "[nltk_data]   Package averaged_perceptron_tagger is already up-to-\n",
      "[nltk_data]       date!\n"
     ]
    },
    {
     "data": {
      "text/plain": [
       "True"
      ]
     },
     "execution_count": 3,
     "metadata": {},
     "output_type": "execute_result"
    }
   ],
   "source": [
    "# Ensure required nltk packages are downloaded\n",
    "nltk.download('punkt')\n",
    "nltk.download('stopwords')\n",
    "nltk.download('wordnet')\n",
    "nltk.download('omw-1.4')  # Enhances lemmatization\n",
    "nltk.download('averaged_perceptron_tagger')  # Useful for POS tagging\n"
   ]
  },
  {
   "cell_type": "code",
   "execution_count": 9,
   "metadata": {
    "id": "u5PDEY_ZJLYp"
   },
   "outputs": [
    {
     "name": "stderr",
     "output_type": "stream",
     "text": [
      "C:\\Users\\Lenovo\\AppData\\Local\\Temp\\ipykernel_18496\\654980406.py:9: FutureWarning: Setting an item of incompatible dtype is deprecated and will raise an error in a future version of pandas. Value '' has dtype incompatible with float64, please explicitly cast to a compatible dtype first.\n",
      "  df.fillna(\"\", inplace=True)\n"
     ]
    }
   ],
   "source": [
    "# Load dataset with proper encoding and error handling\n",
    "file_path = \"stdata.csv\"\n",
    "df = pd.read_csv(file_path, encoding='utf-8', on_bad_lines='skip')\n",
    "\n",
    "# Drop duplicate rows if any\n",
    "df.drop_duplicates(inplace=True)\n",
    "\n",
    "# Fill missing values with empty strings\n",
    "df.fillna(\"\", inplace=True)\n"
   ]
  },
  {
   "cell_type": "code",
   "execution_count": 10,
   "metadata": {
    "colab": {
     "base_uri": "https://localhost:8080/"
    },
    "id": "QHepoqEAK8GU",
    "outputId": "d1a61a6b-d07e-4e1a-8647-83bac4f7f827"
   },
   "outputs": [
    {
     "name": "stderr",
     "output_type": "stream",
     "text": [
      "[nltk_data] Downloading package punkt_tab to\n",
      "[nltk_data]     C:\\Users\\Lenovo\\AppData\\Roaming\\nltk_data...\n",
      "[nltk_data]   Unzipping tokenizers\\punkt_tab.zip.\n"
     ]
    },
    {
     "data": {
      "text/plain": [
       "True"
      ]
     },
     "execution_count": 10,
     "metadata": {},
     "output_type": "execute_result"
    }
   ],
   "source": [
    "import nltk\n",
    "nltk.download('punkt_tab')"
   ]
  },
  {
   "cell_type": "code",
   "execution_count": 12,
   "metadata": {
    "colab": {
     "base_uri": "https://localhost:8080/",
     "height": 211
    },
    "id": "2W30jI1zKMPw",
    "outputId": "58bc4ab3-e0b2-4fc8-eb3e-797815cc9d4c"
   },
   "outputs": [
    {
     "name": "stdout",
     "output_type": "stream",
     "text": [
      "Warning: Column 'desired_answer' not found in DataFrame.\n",
      "Warning: Column 'student_answer' not found in DataFrame.\n"
     ]
    }
   ],
   "source": [
    "# Apply preprocessing, handling potential KeyError\n",
    "desired_answer_col = 'desired_answer'  # Or the actual column name in your CSV\n",
    "student_answer_col = 'student_answer'  # Or the actual column name in your CSV\n",
    "\n",
    "if desired_answer_col in df.columns:\n",
    "    df[desired_answer_col] = df[desired_answer_col].apply(preprocess_text)\n",
    "else:\n",
    "    print(f\"Warning: Column '{desired_answer_col}' not found in DataFrame.\")\n",
    "\n",
    "if student_answer_col in df.columns:\n",
    "    df[student_answer_col] = df[student_answer_col].apply(preprocess_text)\n",
    "else:\n",
    "    print(f\"Warning: Column '{student_answer_col}' not found in DataFrame.\")"
   ]
  },
  {
   "cell_type": "code",
   "execution_count": 15,
   "metadata": {
    "id": "BMP5VsQOKb91"
   },
   "outputs": [
    {
     "name": "stdout",
     "output_type": "stream",
     "text": [
      "\n",
      "First few rows after preprocessing:\n",
      "                                      Desired_answer  \\\n",
      "0  simulate behaviour portion desired software pr...   \n",
      "1  simulate behaviour portion desired software pr...   \n",
      "2  simulate behaviour portion desired software pr...   \n",
      "3  simulate behaviour portion desired software pr...   \n",
      "4  simulate behaviour portion desired software pr...   \n",
      "\n",
      "                                      Student_answer  \n",
      "0  high risk problem address prototype program ma...  \n",
      "1  simulate portion desired final product quick e...  \n",
      "2  prototype program simulates behavior portion d...  \n",
      "3  defined specification phase prototype stimulat...  \n",
      "4  used let user first idea completed program all...  \n"
     ]
    }
   ],
   "source": [
    "def preprocess_text(text):\n",
    "    \"\"\"\n",
    "    Preprocesses text by converting to lowercase, removing punctuation,\n",
    "    tokenizing, removing stop words, lemmatizing, and joining back into a string.\n",
    "\n",
    "    Handles missing or non-string values by returning an empty string.\n",
    "    \"\"\"\n",
    "    if pd.isna(text) or not isinstance(text, str):\n",
    "        return \"\"\n",
    "    text = text.lower()\n",
    "    text = re.sub(r'[^a-zA-Z0-9\\s]', '', text)\n",
    "    tokens = word_tokenize(text)\n",
    "    stop_words = set(stopwords.words('english'))\n",
    "    tokens = [word for word in tokens if word not in stop_words and len(word) > 2]  # Remove short words\n",
    "    lemmatizer = WordNetLemmatizer()\n",
    "    tokens = [lemmatizer.lemmatize(word) for word in tokens]\n",
    "    return ' '.join(tokens)\n",
    "\n",
    "# Apply preprocessing to the correct column names\n",
    "df['Desired_answer'] = df['Desired_answer'].apply(preprocess_text)\n",
    "df['Student_answer'] = df['Student_answer'].apply(preprocess_text)\n",
    "\n",
    "# Print first few rows to verify preprocessing\n",
    "print(\"\\nFirst few rows after preprocessing:\")\n",
    "print(df[['Desired_answer', 'Student_answer']].head())"
   ]
  },
  {
   "cell_type": "code",
   "execution_count": 16,
   "metadata": {
    "colab": {
     "base_uri": "https://localhost:8080/"
    },
    "id": "l7ahUWyoLYVq",
    "outputId": "0c3b2b36-96bb-42b9-f45f-d1824a52be3c"
   },
   "outputs": [
    {
     "name": "stdout",
     "output_type": "stream",
     "text": [
      "Pre-trained Word2Vec model loaded successfully.\n"
     ]
    }
   ],
   "source": [
    "import gensim.downloader as api\n",
    "\n",
    "# Load pre-trained Word2Vec model (with caching to speed up subsequent loads)\n",
    "try:\n",
    "    word_vectors = api.load(\"word2vec-google-news-300\")\n",
    "    print(\"Pre-trained Word2Vec model loaded successfully.\")\n",
    "except Exception as e:\n",
    "    print(f\"Error loading Word2Vec model: {e}\")\n"
   ]
  },
  {
   "cell_type": "code",
   "execution_count": 17,
   "metadata": {
    "colab": {
     "base_uri": "https://localhost:8080/"
    },
    "id": "T0k7-iAuN9t5",
    "outputId": "d8a996b7-8cdd-4e4a-f65a-ec82db7a45c2"
   },
   "outputs": [
    {
     "name": "stdout",
     "output_type": "stream",
     "text": [
      "Defaulting to user installation because normal site-packages is not writeable\n",
      "Collecting POT\n",
      "  Downloading POT-0.9.5-cp312-cp312-win_amd64.whl.metadata (35 kB)\n",
      "Requirement already satisfied: numpy>=1.16 in c:\\users\\lenovo\\appdata\\roaming\\python\\python312\\site-packages (from POT) (1.26.4)\n",
      "Requirement already satisfied: scipy>=1.6 in c:\\users\\lenovo\\appdata\\roaming\\python\\python312\\site-packages (from POT) (1.13.1)\n",
      "Downloading POT-0.9.5-cp312-cp312-win_amd64.whl (347 kB)\n",
      "Installing collected packages: POT\n",
      "Successfully installed POT-0.9.5\n"
     ]
    },
    {
     "name": "stderr",
     "output_type": "stream",
     "text": [
      "\n",
      "[notice] A new release of pip is available: 24.3.1 -> 25.0.1\n",
      "[notice] To update, run: python.exe -m pip install --upgrade pip\n"
     ]
    }
   ],
   "source": [
    "!pip install POT"
   ]
  },
  {
   "cell_type": "code",
   "execution_count": 18,
   "metadata": {
    "id": "MMf6MFrkOA7I"
   },
   "outputs": [],
   "source": [
    "import ot"
   ]
  },
  {
   "cell_type": "code",
   "execution_count": 20,
   "metadata": {
    "id": "PJVblfq3Lk2x"
   },
   "outputs": [],
   "source": [
    "def compute_wmd(text1, text2):\n",
    "    text1_tokens = [word for word in text1.split() if word in word_vectors]\n",
    "    text2_tokens = [word for word in text2.split() if word in word_vectors]\n",
    "\n",
    "    if not text1_tokens or not text2_tokens:\n",
    "        return np.inf  # Return a large distance if either document has no words in vocabulary\n",
    "\n",
    "    return word_vectors.wmdistance(text1_tokens, text2_tokens)\n",
    "\n",
    "def compute_cosine_similarity(text1, text2, vectorizer):\n",
    "    try:\n",
    "        text_vectors = vectorizer.transform([text1, text2])\n",
    "        return cosine_similarity(text_vectors[0], text_vectors[1])[0][0]\n",
    "    except Exception as e:\n",
    "        print(f\"Cosine similarity error: {e}\")\n",
    "        return 0  # Return 0 if an error occurs\n",
    "\n",
    "# Initialize TfidfVectorizer\n",
    "tfidf_vectorizer = TfidfVectorizer()\n",
    "corpus = df['Desired_answer'].tolist() + df['Student_answer'].tolist()\n",
    "tfidf_vectorizer.fit(corpus)\n",
    "\n",
    "# Compute Cosine Similarity and Word Mover's Distance\n",
    "cosine_similarities = []\n",
    "wmd_similarities = []\n",
    "for index in df.index:  # Iterate using the actual DataFrame index\n",
    "    cosine_sim = compute_cosine_similarity(df.loc[index, 'Desired_answer'], df.loc[index, 'Student_answer'], tfidf_vectorizer)\n",
    "    wmd_sim = compute_wmd(df.loc[index, 'Desired_answer'], df.loc[index, 'Student_answer'])\n",
    "    cosine_similarities.append(cosine_sim)\n",
    "    wmd_similarities.append(wmd_sim)\n",
    "\n",
    "df['Cosine_Similarity'] = cosine_similarities\n",
    "df['WMD_Similarity'] = wmd_similarities"
   ]
  },
  {
   "cell_type": "code",
   "execution_count": 21,
   "metadata": {
    "colab": {
     "base_uri": "https://localhost:8080/"
    },
    "id": "SdmtIgCANc4I",
    "outputId": "f4eda722-bf59-4c16-e78c-592892d15e0a"
   },
   "outputs": [
    {
     "name": "stderr",
     "output_type": "stream",
     "text": [
      "C:\\Users\\Lenovo\\AppData\\Local\\Temp\\ipykernel_18496\\1832859562.py:4: FutureWarning: A value is trying to be set on a copy of a DataFrame or Series through chained assignment using an inplace method.\n",
      "The behavior will change in pandas 3.0. This inplace method will never work because the intermediate object on which we are setting values always behaves as a copy.\n",
      "\n",
      "For example, when doing 'df[col].method(value, inplace=True)', try using 'df.method({col: value}, inplace=True)' or df[col] = df[col].method(value) instead, to perform the operation inplace on the original object.\n",
      "\n",
      "\n",
      "  df['Cosine_Similarity'].replace([np.inf, -np.inf], np.nan, inplace=True)\n",
      "C:\\Users\\Lenovo\\AppData\\Local\\Temp\\ipykernel_18496\\1832859562.py:5: FutureWarning: A value is trying to be set on a copy of a DataFrame or Series through chained assignment using an inplace method.\n",
      "The behavior will change in pandas 3.0. This inplace method will never work because the intermediate object on which we are setting values always behaves as a copy.\n",
      "\n",
      "For example, when doing 'df[col].method(value, inplace=True)', try using 'df.method({col: value}, inplace=True)' or df[col] = df[col].method(value) instead, to perform the operation inplace on the original object.\n",
      "\n",
      "\n",
      "  df['WMD_Similarity'].replace([np.inf, -np.inf], np.nan, inplace=True)\n",
      "C:\\Users\\Lenovo\\AppData\\Local\\Temp\\ipykernel_18496\\1832859562.py:8: FutureWarning: A value is trying to be set on a copy of a DataFrame or Series through chained assignment using an inplace method.\n",
      "The behavior will change in pandas 3.0. This inplace method will never work because the intermediate object on which we are setting values always behaves as a copy.\n",
      "\n",
      "For example, when doing 'df[col].method(value, inplace=True)', try using 'df.method({col: value}, inplace=True)' or df[col] = df[col].method(value) instead, to perform the operation inplace on the original object.\n",
      "\n",
      "\n",
      "  df['Cosine_Similarity'].fillna(df['Cosine_Similarity'].mean(), inplace=True)\n",
      "C:\\Users\\Lenovo\\AppData\\Local\\Temp\\ipykernel_18496\\1832859562.py:9: FutureWarning: A value is trying to be set on a copy of a DataFrame or Series through chained assignment using an inplace method.\n",
      "The behavior will change in pandas 3.0. This inplace method will never work because the intermediate object on which we are setting values always behaves as a copy.\n",
      "\n",
      "For example, when doing 'df[col].method(value, inplace=True)', try using 'df.method({col: value}, inplace=True)' or df[col] = df[col].method(value) instead, to perform the operation inplace on the original object.\n",
      "\n",
      "\n",
      "  df['WMD_Similarity'].fillna(df['WMD_Similarity'].mean(), inplace=True)\n"
     ]
    }
   ],
   "source": [
    "from sklearn.preprocessing import MinMaxScaler\n",
    "# --- Normalization ---\n",
    "# Ensure there are no NaN or Inf values in similarity scores\n",
    "df['Cosine_Similarity'].replace([np.inf, -np.inf], np.nan, inplace=True)\n",
    "df['WMD_Similarity'].replace([np.inf, -np.inf], np.nan, inplace=True)\n",
    "\n",
    "# Fill NaN values with the column mean\n",
    "df['Cosine_Similarity'].fillna(df['Cosine_Similarity'].mean(), inplace=True)\n",
    "df['WMD_Similarity'].fillna(df['WMD_Similarity'].mean(), inplace=True)\n",
    "\n",
    "# Normalize Features\n",
    "scaler = MinMaxScaler()\n",
    "df[['Cosine_Similarity', 'WMD_Similarity']] = scaler.fit_transform(df[['Cosine_Similarity', 'WMD_Similarity']])\n",
    "\n"
   ]
  },
  {
   "cell_type": "code",
   "execution_count": 23,
   "metadata": {
    "id": "CrwYOwYFPObG"
   },
   "outputs": [],
   "source": [
    "from tensorflow.keras.preprocessing.text import Tokenizer\n",
    "from tensorflow.keras.preprocessing.sequence import pad_sequences\n",
    "from sklearn.model_selection import train_test_split\n",
    "\n",
    "# 1. Handle Missing Values and Data Type:\n",
    "df[\"Student_answer\"] = df[\"Student_answer\"].fillna(\"\").astype(str)  # Use correct capitalization\n",
    "\n",
    "# 2. Tokenization and Sequencing:\n",
    "tokenizer = Tokenizer(oov_token=\"<OOV>\")  # Handle out-of-vocabulary words\n",
    "tokenizer.fit_on_texts(df[\"Student_answer\"])\n",
    "X_sequences = tokenizer.texts_to_sequences(df[\"Student_answer\"])\n",
    "\n",
    "# 3. Padding:\n",
    "max_length = 100  # Adjust based on your data; consider using statistics (e.g., percentile)\n",
    "X_padded = pad_sequences(X_sequences, maxlen=max_length, padding=\"post\", truncating=\"post\")\n",
    "\n",
    "# 4. Target Variable:\n",
    "y = df[\"score_avg\"].fillna(df[\"score_avg\"].mean()).astype(float)  # Impute with mean if necessary\n",
    "\n",
    "# 5. Train-Test Split:\n",
    "X_train, X_test, y_train, y_test = train_test_split(X_padded, y, test_size=0.2, random_state=42)"
   ]
  },
  {
   "cell_type": "code",
   "execution_count": 24,
   "metadata": {
    "id": "mFFjP0ukPh3o"
   },
   "outputs": [],
   "source": [
    "# Reshape input for LSTM: (samples, timesteps=1, features)\n",
    "X_train_lstm = X_train.reshape((X_train.shape[0], 1, X_train.shape[1]))\n",
    "X_test_lstm = X_test.reshape((X_test.shape[0], 1, X_test.shape[1]))"
   ]
  },
  {
   "cell_type": "code",
   "execution_count": 25,
   "metadata": {
    "colab": {
     "base_uri": "https://localhost:8080/"
    },
    "id": "F0pRyPyPPuWK",
    "outputId": "e2fdf6fe-351d-41e8-8a36-eed9edddc2b9"
   },
   "outputs": [
    {
     "name": "stderr",
     "output_type": "stream",
     "text": [
      "C:\\Users\\Lenovo\\AppData\\Roaming\\Python\\Python312\\site-packages\\keras\\src\\layers\\rnn\\rnn.py:200: UserWarning: Do not pass an `input_shape`/`input_dim` argument to a layer. When using Sequential models, prefer using an `Input(shape)` object as the first layer in the model instead.\n",
      "  super().__init__(**kwargs)\n"
     ]
    }
   ],
   "source": [
    "# Define LSTM Model\n",
    "model = Sequential([\n",
    "    LSTM(64, activation='relu', return_sequences=True, input_shape=(1, X_train.shape[1])),\n",
    "    Dropout(0.5),\n",
    "    LSTM(32, activation='relu', return_sequences=False),\n",
    "    Dropout(0.5),\n",
    "    Dense(16, activation='relu'),\n",
    "    Dense(1, activation='linear')\n",
    "])"
   ]
  },
  {
   "cell_type": "code",
   "execution_count": 26,
   "metadata": {
    "id": "ndSN_1ONPyud"
   },
   "outputs": [],
   "source": [
    "model.compile(optimizer='adam', loss='mean_squared_error', metrics=['mae'])"
   ]
  },
  {
   "cell_type": "code",
   "execution_count": 27,
   "metadata": {
    "colab": {
     "base_uri": "https://localhost:8080/"
    },
    "id": "QGNx1xHvP2Zc",
    "outputId": "3b4c9abf-34b9-4367-9ff1-a0d753c27bfc"
   },
   "outputs": [
    {
     "name": "stdout",
     "output_type": "stream",
     "text": [
      "Epoch 1/50\n",
      "\u001b[1m231/231\u001b[0m \u001b[32m━━━━━━━━━━━━━━━━━━━━\u001b[0m\u001b[37m\u001b[0m \u001b[1m19s\u001b[0m 16ms/step - loss: 402.7263 - mae: 9.7587 - val_loss: 11.0041 - val_mae: 2.5633\n",
      "Epoch 2/50\n",
      "\u001b[1m231/231\u001b[0m \u001b[32m━━━━━━━━━━━━━━━━━━━━\u001b[0m\u001b[37m\u001b[0m \u001b[1m3s\u001b[0m 14ms/step - loss: 33.6527 - mae: 3.4007 - val_loss: 7.4717 - val_mae: 2.1940\n",
      "Epoch 3/50\n",
      "\u001b[1m231/231\u001b[0m \u001b[32m━━━━━━━━━━━━━━━━━━━━\u001b[0m\u001b[37m\u001b[0m \u001b[1m5s\u001b[0m 12ms/step - loss: 16.9849 - mae: 2.5401 - val_loss: 5.5949 - val_mae: 1.9003\n",
      "Epoch 4/50\n",
      "\u001b[1m231/231\u001b[0m \u001b[32m━━━━━━━━━━━━━━━━━━━━\u001b[0m\u001b[37m\u001b[0m \u001b[1m3s\u001b[0m 13ms/step - loss: 9.7189 - mae: 2.1175 - val_loss: 4.1799 - val_mae: 1.7005\n",
      "Epoch 5/50\n",
      "\u001b[1m231/231\u001b[0m \u001b[32m━━━━━━━━━━━━━━━━━━━━\u001b[0m\u001b[37m\u001b[0m \u001b[1m3s\u001b[0m 12ms/step - loss: 7.1144 - mae: 1.8299 - val_loss: 3.8829 - val_mae: 1.6105\n",
      "Epoch 6/50\n",
      "\u001b[1m231/231\u001b[0m \u001b[32m━━━━━━━━━━━━━━━━━━━━\u001b[0m\u001b[37m\u001b[0m \u001b[1m3s\u001b[0m 12ms/step - loss: 6.1529 - mae: 1.6845 - val_loss: 3.3050 - val_mae: 1.5114\n",
      "Epoch 7/50\n",
      "\u001b[1m231/231\u001b[0m \u001b[32m━━━━━━━━━━━━━━━━━━━━\u001b[0m\u001b[37m\u001b[0m \u001b[1m3s\u001b[0m 14ms/step - loss: 4.0320 - mae: 1.5422 - val_loss: 3.4290 - val_mae: 1.4865\n",
      "Epoch 8/50\n",
      "\u001b[1m231/231\u001b[0m \u001b[32m━━━━━━━━━━━━━━━━━━━━\u001b[0m\u001b[37m\u001b[0m \u001b[1m3s\u001b[0m 13ms/step - loss: 4.5333 - mae: 1.5165 - val_loss: 3.3300 - val_mae: 1.4651\n",
      "Epoch 9/50\n",
      "\u001b[1m231/231\u001b[0m \u001b[32m━━━━━━━━━━━━━━━━━━━━\u001b[0m\u001b[37m\u001b[0m \u001b[1m3s\u001b[0m 12ms/step - loss: 3.4206 - mae: 1.4602 - val_loss: 2.8189 - val_mae: 1.4231\n",
      "Epoch 10/50\n",
      "\u001b[1m231/231\u001b[0m \u001b[32m━━━━━━━━━━━━━━━━━━━━\u001b[0m\u001b[37m\u001b[0m \u001b[1m3s\u001b[0m 14ms/step - loss: 3.3527 - mae: 1.4464 - val_loss: 2.8135 - val_mae: 1.4174\n",
      "Epoch 11/50\n",
      "\u001b[1m231/231\u001b[0m \u001b[32m━━━━━━━━━━━━━━━━━━━━\u001b[0m\u001b[37m\u001b[0m \u001b[1m3s\u001b[0m 12ms/step - loss: 3.0457 - mae: 1.4212 - val_loss: 2.7753 - val_mae: 1.4096\n",
      "Epoch 12/50\n",
      "\u001b[1m231/231\u001b[0m \u001b[32m━━━━━━━━━━━━━━━━━━━━\u001b[0m\u001b[37m\u001b[0m \u001b[1m3s\u001b[0m 12ms/step - loss: 2.9192 - mae: 1.4084 - val_loss: 2.7714 - val_mae: 1.4100\n",
      "Epoch 13/50\n",
      "\u001b[1m231/231\u001b[0m \u001b[32m━━━━━━━━━━━━━━━━━━━━\u001b[0m\u001b[37m\u001b[0m \u001b[1m3s\u001b[0m 13ms/step - loss: 2.9319 - mae: 1.4117 - val_loss: 2.7532 - val_mae: 1.4077\n",
      "Epoch 14/50\n",
      "\u001b[1m231/231\u001b[0m \u001b[32m━━━━━━━━━━━━━━━━━━━━\u001b[0m\u001b[37m\u001b[0m \u001b[1m3s\u001b[0m 11ms/step - loss: 2.9914 - mae: 1.3984 - val_loss: 2.7522 - val_mae: 1.4095\n",
      "Epoch 15/50\n",
      "\u001b[1m231/231\u001b[0m \u001b[32m━━━━━━━━━━━━━━━━━━━━\u001b[0m\u001b[37m\u001b[0m \u001b[1m3s\u001b[0m 12ms/step - loss: 2.7360 - mae: 1.3791 - val_loss: 2.6784 - val_mae: 1.4009\n",
      "Epoch 16/50\n",
      "\u001b[1m231/231\u001b[0m \u001b[32m━━━━━━━━━━━━━━━━━━━━\u001b[0m\u001b[37m\u001b[0m \u001b[1m3s\u001b[0m 14ms/step - loss: 2.7994 - mae: 1.4019 - val_loss: 2.6538 - val_mae: 1.3953\n",
      "Epoch 17/50\n",
      "\u001b[1m231/231\u001b[0m \u001b[32m━━━━━━━━━━━━━━━━━━━━\u001b[0m\u001b[37m\u001b[0m \u001b[1m3s\u001b[0m 12ms/step - loss: 2.8046 - mae: 1.3750 - val_loss: 2.6577 - val_mae: 1.3951\n",
      "Epoch 18/50\n",
      "\u001b[1m231/231\u001b[0m \u001b[32m━━━━━━━━━━━━━━━━━━━━\u001b[0m\u001b[37m\u001b[0m \u001b[1m5s\u001b[0m 12ms/step - loss: 2.6606 - mae: 1.3703 - val_loss: 2.6682 - val_mae: 1.3956\n",
      "Epoch 19/50\n",
      "\u001b[1m231/231\u001b[0m \u001b[32m━━━━━━━━━━━━━━━━━━━━\u001b[0m\u001b[37m\u001b[0m \u001b[1m3s\u001b[0m 12ms/step - loss: 2.6202 - mae: 1.3701 - val_loss: 2.6458 - val_mae: 1.3940\n",
      "Epoch 20/50\n",
      "\u001b[1m231/231\u001b[0m \u001b[32m━━━━━━━━━━━━━━━━━━━━\u001b[0m\u001b[37m\u001b[0m \u001b[1m3s\u001b[0m 12ms/step - loss: 2.6077 - mae: 1.3677 - val_loss: 2.6453 - val_mae: 1.3939\n",
      "Epoch 21/50\n",
      "\u001b[1m231/231\u001b[0m \u001b[32m━━━━━━━━━━━━━━━━━━━━\u001b[0m\u001b[37m\u001b[0m \u001b[1m4s\u001b[0m 16ms/step - loss: 2.6922 - mae: 1.3892 - val_loss: 2.6491 - val_mae: 1.3948\n",
      "Epoch 22/50\n",
      "\u001b[1m231/231\u001b[0m \u001b[32m━━━━━━━━━━━━━━━━━━━━\u001b[0m\u001b[37m\u001b[0m \u001b[1m4s\u001b[0m 16ms/step - loss: 2.6580 - mae: 1.3729 - val_loss: 2.6676 - val_mae: 1.3978\n",
      "Epoch 23/50\n",
      "\u001b[1m231/231\u001b[0m \u001b[32m━━━━━━━━━━━━━━━━━━━━\u001b[0m\u001b[37m\u001b[0m \u001b[1m7s\u001b[0m 24ms/step - loss: 2.6119 - mae: 1.3686 - val_loss: 2.6338 - val_mae: 1.3898\n",
      "Epoch 24/50\n",
      "\u001b[1m231/231\u001b[0m \u001b[32m━━━━━━━━━━━━━━━━━━━━\u001b[0m\u001b[37m\u001b[0m \u001b[1m5s\u001b[0m 20ms/step - loss: 2.6794 - mae: 1.3758 - val_loss: 2.6290 - val_mae: 1.3928\n",
      "Epoch 25/50\n",
      "\u001b[1m231/231\u001b[0m \u001b[32m━━━━━━━━━━━━━━━━━━━━\u001b[0m\u001b[37m\u001b[0m \u001b[1m4s\u001b[0m 17ms/step - loss: 2.5553 - mae: 1.3572 - val_loss: 2.6202 - val_mae: 1.3909\n",
      "Epoch 26/50\n",
      "\u001b[1m231/231\u001b[0m \u001b[32m━━━━━━━━━━━━━━━━━━━━\u001b[0m\u001b[37m\u001b[0m \u001b[1m2s\u001b[0m 10ms/step - loss: 2.5097 - mae: 1.3462 - val_loss: 2.6247 - val_mae: 1.3935\n",
      "Epoch 27/50\n",
      "\u001b[1m231/231\u001b[0m \u001b[32m━━━━━━━━━━━━━━━━━━━━\u001b[0m\u001b[37m\u001b[0m \u001b[1m2s\u001b[0m 9ms/step - loss: 2.5404 - mae: 1.3506 - val_loss: 2.6109 - val_mae: 1.3881\n",
      "Epoch 28/50\n",
      "\u001b[1m231/231\u001b[0m \u001b[32m━━━━━━━━━━━━━━━━━━━━\u001b[0m\u001b[37m\u001b[0m \u001b[1m3s\u001b[0m 12ms/step - loss: 2.4894 - mae: 1.3437 - val_loss: 2.5884 - val_mae: 1.3827\n",
      "Epoch 29/50\n",
      "\u001b[1m231/231\u001b[0m \u001b[32m━━━━━━━━━━━━━━━━━━━━\u001b[0m\u001b[37m\u001b[0m \u001b[1m3s\u001b[0m 12ms/step - loss: 2.4907 - mae: 1.3423 - val_loss: 2.6003 - val_mae: 1.3843\n",
      "Epoch 30/50\n",
      "\u001b[1m231/231\u001b[0m \u001b[32m━━━━━━━━━━━━━━━━━━━━\u001b[0m\u001b[37m\u001b[0m \u001b[1m3s\u001b[0m 14ms/step - loss: 2.5011 - mae: 1.3444 - val_loss: 2.5978 - val_mae: 1.3839\n",
      "Epoch 31/50\n",
      "\u001b[1m231/231\u001b[0m \u001b[32m━━━━━━━━━━━━━━━━━━━━\u001b[0m\u001b[37m\u001b[0m \u001b[1m3s\u001b[0m 13ms/step - loss: 2.4780 - mae: 1.3395 - val_loss: 2.6045 - val_mae: 1.3835\n",
      "Epoch 32/50\n",
      "\u001b[1m231/231\u001b[0m \u001b[32m━━━━━━━━━━━━━━━━━━━━\u001b[0m\u001b[37m\u001b[0m \u001b[1m3s\u001b[0m 12ms/step - loss: 2.5253 - mae: 1.3462 - val_loss: 2.4733 - val_mae: 1.3579\n",
      "Epoch 33/50\n",
      "\u001b[1m231/231\u001b[0m \u001b[32m━━━━━━━━━━━━━━━━━━━━\u001b[0m\u001b[37m\u001b[0m \u001b[1m3s\u001b[0m 14ms/step - loss: 2.4663 - mae: 1.3329 - val_loss: 2.4484 - val_mae: 1.3504\n",
      "Epoch 34/50\n",
      "\u001b[1m231/231\u001b[0m \u001b[32m━━━━━━━━━━━━━━━━━━━━\u001b[0m\u001b[37m\u001b[0m \u001b[1m3s\u001b[0m 12ms/step - loss: 2.5415 - mae: 1.3558 - val_loss: 2.4699 - val_mae: 1.3552\n",
      "Epoch 35/50\n",
      "\u001b[1m231/231\u001b[0m \u001b[32m━━━━━━━━━━━━━━━━━━━━\u001b[0m\u001b[37m\u001b[0m \u001b[1m3s\u001b[0m 14ms/step - loss: 2.4755 - mae: 1.3382 - val_loss: 2.4615 - val_mae: 1.3516\n",
      "Epoch 36/50\n",
      "\u001b[1m231/231\u001b[0m \u001b[32m━━━━━━━━━━━━━━━━━━━━\u001b[0m\u001b[37m\u001b[0m \u001b[1m3s\u001b[0m 13ms/step - loss: 2.4443 - mae: 1.3299 - val_loss: 2.4609 - val_mae: 1.3533\n",
      "Epoch 37/50\n",
      "\u001b[1m231/231\u001b[0m \u001b[32m━━━━━━━━━━━━━━━━━━━━\u001b[0m\u001b[37m\u001b[0m \u001b[1m3s\u001b[0m 12ms/step - loss: 2.5235 - mae: 1.3540 - val_loss: 2.4504 - val_mae: 1.3469\n",
      "Epoch 38/50\n",
      "\u001b[1m231/231\u001b[0m \u001b[32m━━━━━━━━━━━━━━━━━━━━\u001b[0m\u001b[37m\u001b[0m \u001b[1m3s\u001b[0m 14ms/step - loss: 2.4733 - mae: 1.3329 - val_loss: 2.4326 - val_mae: 1.3420\n",
      "Epoch 39/50\n",
      "\u001b[1m231/231\u001b[0m \u001b[32m━━━━━━━━━━━━━━━━━━━━\u001b[0m\u001b[37m\u001b[0m \u001b[1m3s\u001b[0m 15ms/step - loss: 3.0834 - mae: 1.3880 - val_loss: 2.4864 - val_mae: 1.3586\n",
      "Epoch 40/50\n",
      "\u001b[1m231/231\u001b[0m \u001b[32m━━━━━━━━━━━━━━━━━━━━\u001b[0m\u001b[37m\u001b[0m \u001b[1m3s\u001b[0m 12ms/step - loss: 2.4380 - mae: 1.3131 - val_loss: 2.4537 - val_mae: 1.3506\n",
      "Epoch 41/50\n",
      "\u001b[1m231/231\u001b[0m \u001b[32m━━━━━━━━━━━━━━━━━━━━\u001b[0m\u001b[37m\u001b[0m \u001b[1m3s\u001b[0m 11ms/step - loss: 2.5219 - mae: 1.3414 - val_loss: 2.4703 - val_mae: 1.3524\n",
      "Epoch 42/50\n",
      "\u001b[1m231/231\u001b[0m \u001b[32m━━━━━━━━━━━━━━━━━━━━\u001b[0m\u001b[37m\u001b[0m \u001b[1m3s\u001b[0m 14ms/step - loss: 2.4147 - mae: 1.3201 - val_loss: 2.4691 - val_mae: 1.3513\n",
      "Epoch 43/50\n",
      "\u001b[1m231/231\u001b[0m \u001b[32m━━━━━━━━━━━━━━━━━━━━\u001b[0m\u001b[37m\u001b[0m \u001b[1m3s\u001b[0m 12ms/step - loss: 2.4565 - mae: 1.3330 - val_loss: 2.4832 - val_mae: 1.3591\n"
     ]
    }
   ],
   "source": [
    "from tensorflow.keras.callbacks import EarlyStopping\n",
    "# Train with Early Stopping\n",
    "early_stopping = EarlyStopping(monitor='val_loss', patience=5, restore_best_weights=True)\n",
    "history = model.fit(X_train_lstm, y_train, validation_data=(X_test_lstm, y_test), epochs=50, batch_size=32, callbacks=[early_stopping])\n"
   ]
  },
  {
   "cell_type": "code",
   "execution_count": 28,
   "metadata": {
    "colab": {
     "base_uri": "https://localhost:8080/"
    },
    "id": "ZHtfkkXyP5c7",
    "outputId": "aa32f6c5-39fa-4334-a883-a378c831804f"
   },
   "outputs": [
    {
     "name": "stdout",
     "output_type": "stream",
     "text": [
      "\u001b[1m58/58\u001b[0m \u001b[32m━━━━━━━━━━━━━━━━━━━━\u001b[0m\u001b[37m\u001b[0m \u001b[1m3s\u001b[0m 24ms/step\n",
      "Mean Squared Error: 2.432599747938023\n",
      "Mean Absolute Error: 1.3419991821325248\n",
      "R² Score: 0.07311616278819433\n"
     ]
    }
   ],
   "source": [
    "# Evaluate model\n",
    "y_pred = model.predict(X_test_lstm)\n",
    "mse = mean_squared_error(y_test, y_pred)\n",
    "mae = mean_absolute_error(y_test, y_pred)\n",
    "r2 = r2_score(y_test, y_pred)\n",
    "print(f\"Mean Squared Error: {mse}\")\n",
    "print(f\"Mean Absolute Error: {mae}\")\n",
    "print(f\"R² Score: {r2}\")"
   ]
  },
  {
   "cell_type": "code",
   "execution_count": 29,
   "metadata": {
    "colab": {
     "base_uri": "https://localhost:8080/",
     "height": 487
    },
    "id": "4iMCjbzmQRNE",
    "outputId": "5a2e77f5-741d-4df8-cbe6-4588e687e81a"
   },
   "outputs": [
    {
     "data": {
      "image/png": "[encoded data removed]",
      "text/plain": [
       "<Figure size 1000x500 with 1 Axes>"
      ]
     },
     "metadata": {},
     "output_type": "display_data"
    }
   ],
   "source": [
    "# Predictions vs Actual Scores\n",
    "plt.figure(figsize=(10, 5))\n",
    "plt.scatter(y_test, y_pred, alpha=0.5, color='purple')\n",
    "plt.plot([min(y_test), max(y_test)], [min(y_test), max(y_test)], color='red', linestyle='dashed')  # Ideal line\n",
    "plt.xlabel('Actual Scores')\n",
    "plt.ylabel('Predicted Scores')\n",
    "plt.title('Actual vs Predicted Scores')\n",
    "plt.show()"
   ]
  },
  {
   "cell_type": "code",
   "execution_count": 59,
   "metadata": {
    "colab": {
     "base_uri": "https://localhost:8080/",
     "height": 477
    },
    "id": "UeMnt10lQbmG",
    "outputId": "7fe19621-2b4c-453a-cbde-7c9603307cd5"
   },
   "outputs": [
    {
     "name": "stdout",
     "output_type": "stream",
     "text": [
      "Predicted Score: 2.558519562724044\n"
     ]
    }
   ],
   "source": [
    "# Create a simple prediction function based on similarity metrics\n",
    "def predict_score(student_answer, desired_answer):\n",
    "    # Preprocess text\n",
    "    student_answer_processed = preprocess_text(student_answer)\n",
    "    desired_answer_processed = preprocess_text(desired_answer)\n",
    "    \n",
    "    # Calculate similarity metrics\n",
    "    cosine_sim = compute_cosine_similarity(student_answer_processed, desired_answer_processed, tfidf_vectorizer)\n",
    "    wmd_sim = compute_wmd(student_answer_processed, desired_answer_processed)\n",
    "    \n",
    "    # Normalize WMD (lower is better, so invert it)\n",
    "    # Cap WMD at 10 to avoid extreme values\n",
    "    normalized_wmd = max(0, min(1, 1 - (wmd_sim / 10)))\n",
    "    \n",
    "    # Formula: Weight cosine similarity more (0.7) than WMD (0.3)\n",
    "    # Scale to 0-5 range which is common for scoring\n",
    "    predicted_score = (cosine_sim * 0.7 + normalized_wmd * 0.3) * 5\n",
    "    \n",
    "    # Ensure score is within the expected range\n",
    "    predicted_score = max(0, min(5, predicted_score))\n",
    "    \n",
    "    return predicted_score\n",
    "\n",
    "# Test example\n",
    "example_student_answer = \"An array is a collection of elements stored in contiguous memory locations.\"\n",
    "example_desired_answer = \"An array is a collection of elements identified by an index.\"\n",
    "predicted_score = predict_score(example_student_answer, example_desired_answer)\n",
    "print(f\"Predicted Score: {predicted_score}\")"
   ]
  },
  {
   "cell_type": "code",
   "execution_count": 52,
   "metadata": {
    "colab": {
     "base_uri": "https://localhost:8080/"
    },
    "id": "1DCPex_dQiJT",
    "outputId": "65c42def-6137-423c-f118-79394c3ccff8"
   },
   "outputs": [
    {
     "name": "stdout",
     "output_type": "stream",
     "text": [
      "Epoch 1/20\n"
     ]
    },
    {
     "name": "stderr",
     "output_type": "stream",
     "text": [
      "C:\\Users\\Lenovo\\AppData\\Roaming\\Python\\Python312\\site-packages\\keras\\src\\layers\\core\\embedding.py:90: UserWarning: Argument `input_length` is deprecated. Just remove it.\n",
      "  warnings.warn(\n"
     ]
    },
    {
     "name": "stdout",
     "output_type": "stream",
     "text": [
      "\u001b[1m116/116\u001b[0m \u001b[32m━━━━━━━━━━━━━━━━━━━━\u001b[0m\u001b[37m\u001b[0m \u001b[1m109s\u001b[0m 783ms/step - loss: 2.2098 - mae: 2.5507 - mse: 9.1342 - val_loss: 1.5547 - val_mae: 1.8807 - val_mse: 5.1257 - learning_rate: 0.0010\n",
      "Epoch 2/20\n",
      "\u001b[1m116/116\u001b[0m \u001b[32m━━━━━━━━━━━━━━━━━━━━\u001b[0m\u001b[37m\u001b[0m \u001b[1m157s\u001b[0m 914ms/step - loss: 1.2707 - mae: 1.5860 - mse: 3.9811 - val_loss: 0.8993 - val_mae: 1.1991 - val_mse: 2.1220 - learning_rate: 0.0010\n",
      "Epoch 3/20\n",
      "\u001b[1m116/116\u001b[0m \u001b[32m━━━━━━━━━━━━━━━━━━━━\u001b[0m\u001b[37m\u001b[0m \u001b[1m158s\u001b[0m 1s/step - loss: 0.7902 - mae: 1.0800 - mse: 1.9225 - val_loss: 0.7993 - val_mae: 1.0977 - val_mse: 1.8555 - learning_rate: 0.0010\n",
      "Epoch 4/20\n",
      "\u001b[1m116/116\u001b[0m \u001b[32m━━━━━━━━━━━━━━━━━━━━\u001b[0m\u001b[37m\u001b[0m \u001b[1m117s\u001b[0m 1s/step - loss: 0.6385 - mae: 0.9168 - mse: 1.4040 - val_loss: 0.7488 - val_mae: 1.0450 - val_mse: 1.7193 - learning_rate: 0.0010\n",
      "Epoch 5/20\n",
      "\u001b[1m116/116\u001b[0m \u001b[32m━━━━━━━━━━━━━━━━━━━━\u001b[0m\u001b[37m\u001b[0m \u001b[1m109s\u001b[0m 944ms/step - loss: 0.5628 - mae: 0.8310 - mse: 1.2075 - val_loss: 0.7484 - val_mae: 1.0439 - val_mse: 1.7985 - learning_rate: 0.0010\n",
      "Epoch 6/20\n",
      "\u001b[1m116/116\u001b[0m \u001b[32m━━━━━━━━━━━━━━━━━━━━\u001b[0m\u001b[37m\u001b[0m \u001b[1m108s\u001b[0m 935ms/step - loss: 0.4482 - mae: 0.7012 - mse: 0.8765 - val_loss: 1.0599 - val_mae: 1.3999 - val_mse: 2.9821 - learning_rate: 0.0010\n",
      "Epoch 7/20\n",
      "\u001b[1m116/116\u001b[0m \u001b[32m━━━━━━━━━━━━━━━━━━━━\u001b[0m\u001b[37m\u001b[0m \u001b[1m117s\u001b[0m 1s/step - loss: 0.3954 - mae: 0.6394 - mse: 0.7552 - val_loss: 0.9684 - val_mae: 1.3094 - val_mse: 2.6024 - learning_rate: 0.0010\n",
      "Epoch 8/20\n",
      "\u001b[1m116/116\u001b[0m \u001b[32m━━━━━━━━━━━━━━━━━━━━\u001b[0m\u001b[37m\u001b[0m \u001b[1m109s\u001b[0m 940ms/step - loss: 0.3380 - mae: 0.5670 - mse: 0.6267 - val_loss: 0.9162 - val_mae: 1.2416 - val_mse: 2.6712 - learning_rate: 0.0010\n",
      "Epoch 9/20\n",
      "\u001b[1m116/116\u001b[0m \u001b[32m━━━━━━━━━━━━━━━━━━━━\u001b[0m\u001b[37m\u001b[0m \u001b[1m155s\u001b[0m 1s/step - loss: 0.3006 - mae: 0.5241 - mse: 0.5312 - val_loss: 0.6724 - val_mae: 0.9732 - val_mse: 1.7262 - learning_rate: 0.0010\n",
      "Epoch 10/20\n",
      "\u001b[1m116/116\u001b[0m \u001b[32m━━━━━━━━━━━━━━━━━━━━\u001b[0m\u001b[37m\u001b[0m \u001b[1m113s\u001b[0m 974ms/step - loss: 0.2669 - mae: 0.4810 - mse: 0.4620 - val_loss: 0.7256 - val_mae: 1.0392 - val_mse: 1.8462 - learning_rate: 0.0010\n",
      "Epoch 11/20\n",
      "\u001b[1m116/116\u001b[0m \u001b[32m━━━━━━━━━━━━━━━━━━━━\u001b[0m\u001b[37m\u001b[0m \u001b[1m101s\u001b[0m 874ms/step - loss: 0.2467 - mae: 0.4590 - mse: 0.4271 - val_loss: 0.6648 - val_mae: 0.9653 - val_mse: 1.7430 - learning_rate: 0.0010\n",
      "Epoch 12/20\n",
      "\u001b[1m116/116\u001b[0m \u001b[32m━━━━━━━━━━━━━━━━━━━━\u001b[0m\u001b[37m\u001b[0m \u001b[1m139s\u001b[0m 852ms/step - loss: 0.2256 - mae: 0.4342 - mse: 0.3829 - val_loss: 0.6510 - val_mae: 0.9572 - val_mse: 1.6976 - learning_rate: 0.0010\n",
      "Epoch 13/20\n",
      "\u001b[1m116/116\u001b[0m \u001b[32m━━━━━━━━━━━━━━━━━━━━\u001b[0m\u001b[37m\u001b[0m \u001b[1m161s\u001b[0m 1s/step - loss: 0.2015 - mae: 0.4009 - mse: 0.3451 - val_loss: 0.6951 - val_mae: 0.9992 - val_mse: 1.9447 - learning_rate: 0.0010\n",
      "Epoch 14/20\n",
      "\u001b[1m116/116\u001b[0m \u001b[32m━━━━━━━━━━━━━━━━━━━━\u001b[0m\u001b[37m\u001b[0m \u001b[1m90s\u001b[0m 773ms/step - loss: 0.1844 - mae: 0.3844 - mse: 0.3120 - val_loss: 0.6376 - val_mae: 0.9624 - val_mse: 1.6078 - learning_rate: 0.0010\n",
      "Epoch 15/20\n",
      "\u001b[1m116/116\u001b[0m \u001b[32m━━━━━━━━━━━━━━━━━━━━\u001b[0m\u001b[37m\u001b[0m \u001b[1m98s\u001b[0m 841ms/step - loss: 0.1685 - mae: 0.3584 - mse: 0.2814 - val_loss: 0.6523 - val_mae: 0.9850 - val_mse: 1.6402 - learning_rate: 0.0010\n",
      "Epoch 16/20\n",
      "\u001b[1m116/116\u001b[0m \u001b[32m━━━━━━━━━━━━━━━━━━━━\u001b[0m\u001b[37m\u001b[0m \u001b[1m107s\u001b[0m 918ms/step - loss: 0.1682 - mae: 0.3603 - mse: 0.2935 - val_loss: 0.6412 - val_mae: 0.9531 - val_mse: 1.7423 - learning_rate: 0.0010\n",
      "Epoch 17/20\n",
      "\u001b[1m116/116\u001b[0m \u001b[32m━━━━━━━━━━━━━━━━━━━━\u001b[0m\u001b[37m\u001b[0m \u001b[1m137s\u001b[0m 880ms/step - loss: 0.1553 - mae: 0.3446 - mse: 0.2758 - val_loss: 0.6239 - val_mae: 0.9558 - val_mse: 1.6183 - learning_rate: 0.0010\n",
      "Epoch 18/20\n",
      "\u001b[1m116/116\u001b[0m \u001b[32m━━━━━━━━━━━━━━━━━━━━\u001b[0m\u001b[37m\u001b[0m \u001b[1m99s\u001b[0m 851ms/step - loss: 0.1568 - mae: 0.3516 - mse: 0.2876 - val_loss: 0.6318 - val_mae: 0.9556 - val_mse: 1.7515 - learning_rate: 0.0010\n",
      "Epoch 19/20\n",
      "\u001b[1m116/116\u001b[0m \u001b[32m━━━━━━━━━━━━━━━━━━━━\u001b[0m\u001b[37m\u001b[0m \u001b[1m128s\u001b[0m 726ms/step - loss: 0.1473 - mae: 0.3380 - mse: 0.2775 - val_loss: 0.6367 - val_mae: 0.9699 - val_mse: 1.7274 - learning_rate: 0.0010\n",
      "Epoch 20/20\n",
      "\u001b[1m116/116\u001b[0m \u001b[32m━━━━━━━━━━━━━━━━━━━━\u001b[0m\u001b[37m\u001b[0m \u001b[1m91s\u001b[0m 783ms/step - loss: 0.1496 - mae: 0.3504 - mse: 0.2834 - val_loss: 0.6164 - val_mae: 0.9517 - val_mse: 1.6874 - learning_rate: 0.0010\n",
      "Restoring model weights from the end of the best epoch: 20.\n"
     ]
    }
   ],
   "source": [
    "from tensorflow.keras.preprocessing.text import Tokenizer\n",
    "from tensorflow.keras.preprocessing.sequence import pad_sequences\n",
    "from sklearn.model_selection import train_test_split\n",
    "from tensorflow.keras.models import Sequential\n",
    "from tensorflow.keras.layers import Embedding, LSTM, Bidirectional, Dense, Dropout, Conv1D, MaxPooling1D, BatchNormalization\n",
    "from tensorflow.keras.optimizers import Adam\n",
    "from tensorflow.keras.callbacks import ReduceLROnPlateau, EarlyStopping\n",
    "from tensorflow.keras.regularizers import l2\n",
    "\n",
    "# 1. Handle Missing Values and Data Type:\n",
    "df[\"Student_answer\"] = df[\"Student_answer\"].fillna(\"\").astype(str)\n",
    "\n",
    "# 2. Improved Tokenization with larger vocab:\n",
    "max_words = 20000  # Increase vocabulary size\n",
    "tokenizer = Tokenizer(num_words=max_words, oov_token=\"<OOV>\")\n",
    "tokenizer.fit_on_texts(df[\"Student_answer\"])\n",
    "X_sequences = tokenizer.texts_to_sequences(df[\"Student_answer\"])\n",
    "\n",
    "# 3. Padding with more context:\n",
    "max_length = 150  # Increased from 100 to capture more context\n",
    "X_padded = pad_sequences(X_sequences, maxlen=max_length, padding=\"post\", truncating=\"post\")\n",
    "\n",
    "# 4. Target Variable:\n",
    "y = df[\"score_avg\"].fillna(df[\"score_avg\"].mean()).astype(float)\n",
    "\n",
    "# 5. Better train-test split with stratification on score ranges:\n",
    "# Create score bins for stratification\n",
    "import numpy as np\n",
    "score_bins = np.floor(y).astype(int)\n",
    "X_train, X_test, y_train, y_test = train_test_split(\n",
    "    X_padded, y, test_size=0.2, random_state=42, stratify=score_bins\n",
    ")\n",
    "\n",
    "# 6. Improved Model Architecture:\n",
    "vocab_size = min(len(tokenizer.word_index) + 1, max_words)  # +1 for <OOV>\n",
    "embedding_dim = 200  # Increased embedding dimension\n",
    "\n",
    "model = Sequential([\n",
    "    # Input and Embedding\n",
    "    Embedding(vocab_size, embedding_dim, input_length=max_length),\n",
    "    \n",
    "    # Convolutional layer for feature extraction\n",
    "    Conv1D(128, 5, activation='relu', padding='same'),\n",
    "    MaxPooling1D(pool_size=2),\n",
    "    BatchNormalization(),\n",
    "    \n",
    "    # First Bidirectional LSTM layer\n",
    "    Bidirectional(LSTM(128, return_sequences=True, recurrent_dropout=0.1)),\n",
    "    Dropout(0.3),  # Increased dropout\n",
    "    \n",
    "    # Second Bidirectional LSTM layer\n",
    "    Bidirectional(LSTM(64)),\n",
    "    Dropout(0.3),  # Increased dropout\n",
    "    \n",
    "    # Dense layers with batch normalization for better generalization\n",
    "    Dense(64, activation='relu', kernel_regularizer=l2(0.001)),\n",
    "    BatchNormalization(),\n",
    "    Dropout(0.3),\n",
    "    \n",
    "    Dense(32, activation='relu', kernel_regularizer=l2(0.001)),\n",
    "    BatchNormalization(),\n",
    "    \n",
    "    # Output layer\n",
    "    Dense(1, activation='linear')\n",
    "])\n",
    "\n",
    "# 7. Improved optimizer with weight decay\n",
    "optimizer = Adam(learning_rate=0.001)\n",
    "model.compile(\n",
    "    optimizer=optimizer, \n",
    "    loss='huber',  # Huber loss is more robust to outliers than MSE\n",
    "    metrics=['mae', 'mse']\n",
    ")\n",
    "\n",
    "# 8. Better callbacks\n",
    "early_stopping = EarlyStopping(\n",
    "    monitor='val_loss', \n",
    "    patience=7,  # Increased patience\n",
    "    restore_best_weights=True,\n",
    "    verbose=1\n",
    ")\n",
    "\n",
    "reduce_lr = ReduceLROnPlateau(\n",
    "    monitor='val_loss', \n",
    "    factor=0.1,  # Sharper learning rate reduction\n",
    "    patience=4, \n",
    "    min_lr=0.00001,\n",
    "    verbose=1\n",
    ")\n",
    "\n",
    "# 9. Model training with class weighting\n",
    "history = model.fit(\n",
    "    X_train, y_train,\n",
    "    validation_data=(X_test, y_test),\n",
    "    epochs=20,  # Slightly increased epochs since we have early stopping\n",
    "    batch_size=64,  # Increased batch size for better generalization\n",
    "    callbacks=[early_stopping, reduce_lr],\n",
    "    verbose=1\n",
    ")"
   ]
  },
  {
   "cell_type": "code",
   "execution_count": 53,
   "metadata": {
    "colab": {
     "base_uri": "https://localhost:8080/"
    },
    "id": "u4YHGtGWRATF",
    "outputId": "e92333c1-da96-4d6a-c2e5-1026c60928c5"
   },
   "outputs": [
    {
     "name": "stdout",
     "output_type": "stream",
     "text": [
      "\u001b[1m58/58\u001b[0m \u001b[32m━━━━━━━━━━━━━━━━━━━━\u001b[0m\u001b[37m\u001b[0m \u001b[1m10s\u001b[0m 131ms/step\n",
      "Mean Squared Error: 1.6873895934110557\n",
      "Mean Absolute Error: 0.9517025487597396\n",
      "R² Score: 0.3350451538454746\n"
     ]
    }
   ],
   "source": [
    "# Evaluate model\n",
    "y_pred = model.predict(X_test)  # Use X_test instead of X_test_lstm\n",
    "mse = mean_squared_error(y_test, y_pred)\n",
    "mae = mean_absolute_error(y_test, y_pred)\n",
    "r2 = r2_score(y_test, y_pred)\n",
    "print(f\"Mean Squared Error: {mse}\")\n",
    "print(f\"Mean Absolute Error: {mae}\")\n",
    "print(f\"R² Score: {r2}\")"
   ]
  },
  {
   "cell_type": "code",
   "execution_count": 54,
   "metadata": {
    "colab": {
     "base_uri": "https://localhost:8080/",
     "height": 395
    },
    "id": "WqqVrGq0Unsx",
    "outputId": "d1db56cb-f2eb-443d-c0a1-458475ca1acc"
   },
   "outputs": [
    {
     "data": {
      "image/png": "[encoded data removed]",
      "text/plain": [
       "<Figure size 1000x500 with 1 Axes>"
      ]
     },
     "metadata": {},
     "output_type": "display_data"
    }
   ],
   "source": [
    "# Predictions vs Actual Scores\n",
    "plt.figure(figsize=(10, 5))\n",
    "plt.scatter(y_test, y_pred, alpha=0.5, color='purple')\n",
    "plt.plot([min(y_test), max(y_test)], [min(y_test), max(y_test)], color='red', linestyle='dashed')  # Ideal line\n",
    "plt.xlabel('Actual Scores')\n",
    "plt.ylabel('Predicted Scores')\n",
    "plt.title('Actual vs Predicted Scores')\n",
    "plt.show()"
   ]
  },
  {
   "cell_type": "code",
   "execution_count": 55,
   "metadata": {
    "id": "WNRbhbrtU_i8"
   },
   "outputs": [],
   "source": [
    "from tensorflow.keras.models import save_model"
   ]
  },
  {
   "cell_type": "code",
   "execution_count": 56,
   "metadata": {
    "colab": {
     "base_uri": "https://localhost:8080/"
    },
    "id": "rn__fEGwmdJS",
    "outputId": "b8c1c028-7afb-4127-dbf7-60efed131449"
   },
   "outputs": [],
   "source": [
    "# Assuming your model is named 'model'\n",
    "model.save('sae.keras')"
   ]
  },
  {
   "cell_type": "code",
   "execution_count": 57,
   "metadata": {
    "id": "U6EE1o9Omjyo"
   },
   "outputs": [],
   "source": [
    "import pickle"
   ]
  },
  {
   "cell_type": "code",
   "execution_count": 58,
   "metadata": {
    "id": "w6r9Fnc_rEck"
   },
   "outputs": [],
   "source": [
    "# Assuming your model is named 'model'\n",
    "with open('tokenizer1.pkl', 'wb') as file:\n",
    "       pickle.dump(model, file)"
   ]
  },
  {
   "cell_type": "code",
   "execution_count": null,
   "metadata": {
    "id": "NUMxe-JxrI4f"
   },
   "outputs": [],
   "source": []
  }
 ],
 "metadata": {
  "colab": {
   "provenance": []
  },
  "kernelspec": {
   "display_name": "Python 3 (ipykernel)",
   "language": "python",
   "name": "python3"
  }
 },
 "nbformat": 4,
 "nbformat_minor": 4
}
