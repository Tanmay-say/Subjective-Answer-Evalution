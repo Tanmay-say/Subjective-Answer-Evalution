{
 "cells": [
  {
   "cell_type": "code",
   "execution_count": 17,
   "id": "b410222d-b425-45d2-a7eb-506a8663e8a2",
   "metadata": {},
   "outputs": [],
   "source": [
    "import pandas as pd\n",
    "import numpy as np\n",
    "import re\n",
    "import nltk\n",
    "import matplotlib.pyplot as plt\n",
    "from nltk.tokenize import word_tokenize\n",
    "from nltk.corpus import stopwords\n",
    "from nltk.stem import WordNetLemmatizer\n",
    "from sklearn.feature_extraction.text import TfidfVectorizer\n",
    "from sklearn.metrics.pairwise import cosine_similarity\n",
    "from gensim.models import KeyedVectors\n",
    "from gensim.similarities import WmdSimilarity\n",
    "from tensorflow.keras.preprocessing.text import Tokenizer\n",
    "from tensorflow.keras.preprocessing.sequence import pad_sequences\n",
    "from tensorflow.keras.models import Sequential\n",
    "from tensorflow.keras.layers import Embedding, LSTM, Dense, Dropout\n",
    "from sklearn.model_selection import train_test_split\n",
    "from sklearn.metrics import mean_absolute_error, mean_squared_error, r2_score"
   ]
  },
  {
   "cell_type": "code",
   "execution_count": 19,
   "id": "9b78d54f-c547-4949-9789-dc9ef3fe773d",
   "metadata": {},
   "outputs": [
    {
     "name": "stderr",
     "output_type": "stream",
     "text": [
      "[nltk_data] Downloading package punkt to\n",
      "[nltk_data]     C:\\Users\\puppa\\AppData\\Roaming\\nltk_data...\n",
      "[nltk_data]   Package punkt is already up-to-date!\n",
      "[nltk_data] Downloading package stopwords to\n",
      "[nltk_data]     C:\\Users\\puppa\\AppData\\Roaming\\nltk_data...\n",
      "[nltk_data]   Package stopwords is already up-to-date!\n",
      "[nltk_data] Downloading package wordnet to\n",
      "[nltk_data]     C:\\Users\\puppa\\AppData\\Roaming\\nltk_data...\n",
      "[nltk_data]   Package wordnet is already up-to-date!\n"
     ]
    },
    {
     "data": {
      "text/plain": [
       "True"
      ]
     },
     "execution_count": 19,
     "metadata": {},
     "output_type": "execute_result"
    }
   ],
   "source": [
    "# Ensure required nltk packages are downloaded\n",
    "nltk.download('punkt')\n",
    "nltk.download('stopwords')\n",
    "nltk.download('wordnet')"
   ]
  },
  {
   "cell_type": "code",
   "execution_count": 21,
   "id": "7cdca667-034e-49a9-a8ad-a0cbda3a81a3",
   "metadata": {},
   "outputs": [],
   "source": [
    "# Load dataset\n",
    "file_path = \"C:/Users/puppa/Downloads/mohler_dataset_FINAL - mohler_dataset_edited.csv (1).csv\"\n",
    "df = pd.read_csv(file_path)"
   ]
  },
  {
   "cell_type": "code",
   "execution_count": null,
   "id": "e3815ae9-3906-49f5-8f20-6d062a7190ca",
   "metadata": {},
   "outputs": [],
   "source": []
  },
  {
   "cell_type": "code",
   "execution_count": 24,
   "id": "0f2621d7-f85c-4d7d-98d2-3cb15c17ee6e",
   "metadata": {},
   "outputs": [],
   "source": [
    "def preprocess_text(text):\n",
    "    if pd.isna(text):\n",
    "        return \"\"\n",
    "    text = text.lower()\n",
    "    text = re.sub(r'[^a-zA-Z0-9\\s]', '', text)\n",
    "    tokens = word_tokenize(text)\n",
    "    stop_words = set(stopwords.words('english'))\n",
    "    tokens = [word for word in tokens if word not in stop_words]\n",
    "    lemmatizer = WordNetLemmatizer()\n",
    "    tokens = [lemmatizer.lemmatize(word) for word in tokens]\n",
    "    return ' '.join(tokens)\n",
    "\n",
    "\n",
    "\n",
    "# Apply preprocessing\n",
    "df['Desired_answer'] = df['Desired_answer'].apply(preprocess_text)\n",
    "df['Student_answer'] = df['Student_answer'].apply(preprocess_text)"
   ]
  },
  {
   "cell_type": "code",
   "execution_count": 25,
   "id": "d2707de4-cb36-4ba6-9289-f1acd369bedd",
   "metadata": {},
   "outputs": [],
   "source": [
    "import gensim.downloader as api\n",
    "# Load pre-trained Word2Vec model\n",
    "word_vectors = api.load(\"word2vec-google-news-300\")"
   ]
  },
  {
   "cell_type": "code",
   "execution_count": 26,
   "id": "7a216531-1c91-4cb3-b5cb-a0e757949ea3",
   "metadata": {},
   "outputs": [],
   "source": [
    "def compute_wmd(text1, text2):\n",
    "    text1_tokens = text1.split()\n",
    "    text2_tokens = text2.split()\n",
    "    try:\n",
    "        return word_vectors.wmdistance(text1_tokens, text2_tokens)\n",
    "    except:\n",
    "        return np.inf  # Return a large distance if an error occurs\n",
    "\n",
    "def compute_cosine_similarity(text1, text2, vectorizer):\n",
    "    text_vectors = vectorizer.transform([text1, text2])\n",
    "    return cosine_similarity(text_vectors[0], text_vectors[1])[0][0]\n",
    "\n",
    "# Initialize TfidfVectorizer\n",
    "tfidf_vectorizer = TfidfVectorizer()\n",
    "corpus = df['Desired_answer'].tolist() + df['Student_answer'].tolist()\n",
    "tfidf_vectorizer.fit(corpus)\n",
    "\n",
    "# Compute Cosine Similarity and Word Mover's Distance\n",
    "cosine_similarities = []\n",
    "wmd_similarities = []\n",
    "for i in range(len(df)):\n",
    "    cosine_sim = compute_cosine_similarity(df['Desired_answer'][i], df['Student_answer'][i], tfidf_vectorizer)\n",
    "    wmd_sim = compute_wmd(df['Desired_answer'][i], df['Student_answer'][i])\n",
    "    cosine_similarities.append(cosine_sim)\n",
    "    wmd_similarities.append(wmd_sim)\n",
    "\n",
    "df['Cosine_Similarity'] = cosine_similarities\n",
    "df['WMD_Similarity'] = wmd_similarities\n"
   ]
  },
  {
   "cell_type": "code",
   "execution_count": 27,
   "id": "d3bffaf5-856f-4b96-bb04-1a697c94f396",
   "metadata": {},
   "outputs": [
    {
     "name": "stderr",
     "output_type": "stream",
     "text": [
      "C:\\Users\\puppa\\AppData\\Local\\Temp\\ipykernel_22932\\331846528.py:5: FutureWarning: A value is trying to be set on a copy of a DataFrame or Series through chained assignment using an inplace method.\n",
      "The behavior will change in pandas 3.0. This inplace method will never work because the intermediate object on which we are setting values always behaves as a copy.\n",
      "\n",
      "For example, when doing 'df[col].method(value, inplace=True)', try using 'df.method({col: value}, inplace=True)' or df[col] = df[col].method(value) instead, to perform the operation inplace on the original object.\n",
      "\n",
      "\n",
      "  df['Cosine_Similarity'].replace([np.inf, -np.inf], np.nan, inplace=True)\n",
      "C:\\Users\\puppa\\AppData\\Local\\Temp\\ipykernel_22932\\331846528.py:6: FutureWarning: A value is trying to be set on a copy of a DataFrame or Series through chained assignment using an inplace method.\n",
      "The behavior will change in pandas 3.0. This inplace method will never work because the intermediate object on which we are setting values always behaves as a copy.\n",
      "\n",
      "For example, when doing 'df[col].method(value, inplace=True)', try using 'df.method({col: value}, inplace=True)' or df[col] = df[col].method(value) instead, to perform the operation inplace on the original object.\n",
      "\n",
      "\n",
      "  df['WMD_Similarity'].replace([np.inf, -np.inf], np.nan, inplace=True)\n",
      "C:\\Users\\puppa\\AppData\\Local\\Temp\\ipykernel_22932\\331846528.py:9: FutureWarning: A value is trying to be set on a copy of a DataFrame or Series through chained assignment using an inplace method.\n",
      "The behavior will change in pandas 3.0. This inplace method will never work because the intermediate object on which we are setting values always behaves as a copy.\n",
      "\n",
      "For example, when doing 'df[col].method(value, inplace=True)', try using 'df.method({col: value}, inplace=True)' or df[col] = df[col].method(value) instead, to perform the operation inplace on the original object.\n",
      "\n",
      "\n",
      "  df['Cosine_Similarity'].fillna(df['Cosine_Similarity'].mean(), inplace=True)\n",
      "C:\\Users\\puppa\\AppData\\Local\\Temp\\ipykernel_22932\\331846528.py:10: FutureWarning: A value is trying to be set on a copy of a DataFrame or Series through chained assignment using an inplace method.\n",
      "The behavior will change in pandas 3.0. This inplace method will never work because the intermediate object on which we are setting values always behaves as a copy.\n",
      "\n",
      "For example, when doing 'df[col].method(value, inplace=True)', try using 'df.method({col: value}, inplace=True)' or df[col] = df[col].method(value) instead, to perform the operation inplace on the original object.\n",
      "\n",
      "\n",
      "  df['WMD_Similarity'].fillna(df['WMD_Similarity'].mean(), inplace=True)\n"
     ]
    }
   ],
   "source": [
    "from sklearn.preprocessing import MinMaxScaler\n",
    "import numpy as np\n",
    "\n",
    "# Ensure there are no NaN or Inf values in similarity scores\n",
    "df['Cosine_Similarity'].replace([np.inf, -np.inf], np.nan, inplace=True)\n",
    "df['WMD_Similarity'].replace([np.inf, -np.inf], np.nan, inplace=True)\n",
    "\n",
    "# Fill NaN values with the column mean\n",
    "df['Cosine_Similarity'].fillna(df['Cosine_Similarity'].mean(), inplace=True)\n",
    "df['WMD_Similarity'].fillna(df['WMD_Similarity'].mean(), inplace=True)\n",
    "\n",
    "# Normalize Features\n",
    "scaler = MinMaxScaler()\n",
    "df[['Cosine_Similarity', 'WMD_Similarity']] = scaler.fit_transform(df[['Cosine_Similarity', 'WMD_Similarity']])\n"
   ]
  },
  {
   "cell_type": "code",
   "execution_count": 36,
   "id": "4a8d20ea-b679-47a2-9a8e-2f84dd95e41f",
   "metadata": {},
   "outputs": [],
   "source": [
    "from tensorflow.keras.preprocessing.text import Tokenizer\n",
    "from tensorflow.keras.preprocessing.sequence import pad_sequences\n",
    "from sklearn.model_selection import train_test_split\n",
    "\n",
    "# Ensure the column contains only strings and handle NaN values\n",
    "df[\"Student_answer\"] = df[\"Student_answer\"].fillna(\"\").astype(str)\n",
    "\n",
    "# Tokenization\n",
    "tokenizer = Tokenizer()\n",
    "tokenizer.fit_on_texts(df[\"Student_answer\"])\n",
    "\n",
    "# Convert text to sequences\n",
    "X_sequences = tokenizer.texts_to_sequences(df[\"Student_answer\"])\n",
    "\n",
    "# Padding sequences\n",
    "max_length = 100  # Adjust this based on your dataset\n",
    "X_padded = pad_sequences(X_sequences, maxlen=max_length, padding=\"post\")\n",
    "\n",
    "# Define labels (Ensure y is properly assigned)\n",
    "y = df[\"score_avg\"].fillna(0).astype(float)  # Replace with your target column\n",
    "\n",
    "# Train-test split\n",
    "X_train, X_test, y_train, y_test = train_test_split(X_padded, y, test_size=0.2, random_state=42)"
   ]
  },
  {
   "cell_type": "code",
   "execution_count": 38,
   "id": "f2ebd133-ca88-40ea-9910-d1717168fd62",
   "metadata": {},
   "outputs": [],
   "source": [
    "# Reshape input for LSTM: (samples, timesteps=1, features)\n",
    "X_train_lstm = X_train.reshape((X_train.shape[0], 1, X_train.shape[1]))\n",
    "X_test_lstm = X_test.reshape((X_test.shape[0], 1, X_test.shape[1]))"
   ]
  },
  {
   "cell_type": "code",
   "execution_count": 40,
   "id": "f72696b4-8f9b-463e-8225-3acecda4a65c",
   "metadata": {},
   "outputs": [
    {
     "name": "stderr",
     "output_type": "stream",
     "text": [
      "C:\\Users\\puppa\\AppData\\Roaming\\Python\\Python312\\site-packages\\keras\\src\\layers\\rnn\\rnn.py:200: UserWarning: Do not pass an `input_shape`/`input_dim` argument to a layer. When using Sequential models, prefer using an `Input(shape)` object as the first layer in the model instead.\n",
      "  super().__init__(**kwargs)\n"
     ]
    }
   ],
   "source": [
    "# Define LSTM Model\n",
    "model = Sequential([\n",
    "    LSTM(64, activation='relu', return_sequences=True, input_shape=(1, X_train.shape[1])),\n",
    "    Dropout(0.5),\n",
    "    LSTM(32, activation='relu', return_sequences=False),\n",
    "    Dropout(0.5),\n",
    "    Dense(16, activation='relu'),\n",
    "    Dense(1, activation='linear')\n",
    "])"
   ]
  },
  {
   "cell_type": "code",
   "execution_count": 42,
   "id": "cc86414f-05cd-4bda-8c4d-ae961bcc5f51",
   "metadata": {},
   "outputs": [],
   "source": [
    "model.compile(optimizer='adam', loss='mean_squared_error', metrics=['mae'])"
   ]
  },
  {
   "cell_type": "code",
   "execution_count": 46,
   "id": "197be407-313e-43f6-934e-a8ca1adacc81",
   "metadata": {},
   "outputs": [
    {
     "name": "stdout",
     "output_type": "stream",
     "text": [
      "Epoch 1/50\n",
      "\u001b[1m101/101\u001b[0m \u001b[32m━━━━━━━━━━━━━━━━━━━━\u001b[0m\u001b[37m\u001b[0m \u001b[1m5s\u001b[0m 9ms/step - loss: 336.1168 - mae: 8.7161 - val_loss: 15.7703 - val_mae: 3.0673\n",
      "Epoch 2/50\n",
      "\u001b[1m101/101\u001b[0m \u001b[32m━━━━━━━━━━━━━━━━━━━━\u001b[0m\u001b[37m\u001b[0m \u001b[1m0s\u001b[0m 4ms/step - loss: 51.2590 - mae: 4.0875 - val_loss: 10.3454 - val_mae: 2.7605\n",
      "Epoch 3/50\n",
      "\u001b[1m101/101\u001b[0m \u001b[32m━━━━━━━━━━━━━━━━━━━━\u001b[0m\u001b[37m\u001b[0m \u001b[1m1s\u001b[0m 4ms/step - loss: 31.1468 - mae: 3.2319 - val_loss: 9.0603 - val_mae: 2.6207\n",
      "Epoch 4/50\n",
      "\u001b[1m101/101\u001b[0m \u001b[32m━━━━━━━━━━━━━━━━━━━━\u001b[0m\u001b[37m\u001b[0m \u001b[1m0s\u001b[0m 4ms/step - loss: 28.7430 - mae: 3.2087 - val_loss: 7.3055 - val_mae: 2.3771\n",
      "Epoch 5/50\n",
      "\u001b[1m101/101\u001b[0m \u001b[32m━━━━━━━━━━━━━━━━━━━━\u001b[0m\u001b[37m\u001b[0m \u001b[1m0s\u001b[0m 4ms/step - loss: 14.7071 - mae: 2.7516 - val_loss: 6.3278 - val_mae: 2.2053\n",
      "Epoch 6/50\n",
      "\u001b[1m101/101\u001b[0m \u001b[32m━━━━━━━━━━━━━━━━━━━━\u001b[0m\u001b[37m\u001b[0m \u001b[1m0s\u001b[0m 4ms/step - loss: 11.4628 - mae: 2.4571 - val_loss: 5.7900 - val_mae: 2.0990\n",
      "Epoch 7/50\n",
      "\u001b[1m101/101\u001b[0m \u001b[32m━━━━━━━━━━━━━━━━━━━━\u001b[0m\u001b[37m\u001b[0m \u001b[1m0s\u001b[0m 4ms/step - loss: 13.0274 - mae: 2.3346 - val_loss: 5.4539 - val_mae: 2.0217\n",
      "Epoch 8/50\n",
      "\u001b[1m101/101\u001b[0m \u001b[32m━━━━━━━━━━━━━━━━━━━━\u001b[0m\u001b[37m\u001b[0m \u001b[1m0s\u001b[0m 4ms/step - loss: 8.3881 - mae: 2.0885 - val_loss: 4.7111 - val_mae: 1.8536\n",
      "Epoch 9/50\n",
      "\u001b[1m101/101\u001b[0m \u001b[32m━━━━━━━━━━━━━━━━━━━━\u001b[0m\u001b[37m\u001b[0m \u001b[1m0s\u001b[0m 4ms/step - loss: 6.0515 - mae: 1.8780 - val_loss: 4.0812 - val_mae: 1.7146\n",
      "Epoch 10/50\n",
      "\u001b[1m101/101\u001b[0m \u001b[32m━━━━━━━━━━━━━━━━━━━━\u001b[0m\u001b[37m\u001b[0m \u001b[1m0s\u001b[0m 4ms/step - loss: 4.8830 - mae: 1.7140 - val_loss: 3.6632 - val_mae: 1.6119\n",
      "Epoch 11/50\n",
      "\u001b[1m101/101\u001b[0m \u001b[32m━━━━━━━━━━━━━━━━━━━━\u001b[0m\u001b[37m\u001b[0m \u001b[1m1s\u001b[0m 5ms/step - loss: 4.1007 - mae: 1.5520 - val_loss: 3.2000 - val_mae: 1.4953\n",
      "Epoch 12/50\n",
      "\u001b[1m101/101\u001b[0m \u001b[32m━━━━━━━━━━━━━━━━━━━━\u001b[0m\u001b[37m\u001b[0m \u001b[1m1s\u001b[0m 5ms/step - loss: 4.1906 - mae: 1.4981 - val_loss: 2.8524 - val_mae: 1.4013\n",
      "Epoch 13/50\n",
      "\u001b[1m101/101\u001b[0m \u001b[32m━━━━━━━━━━━━━━━━━━━━\u001b[0m\u001b[37m\u001b[0m \u001b[1m0s\u001b[0m 4ms/step - loss: 3.6585 - mae: 1.3950 - val_loss: 2.4782 - val_mae: 1.2926\n",
      "Epoch 14/50\n",
      "\u001b[1m101/101\u001b[0m \u001b[32m━━━━━━━━━━━━━━━━━━━━\u001b[0m\u001b[37m\u001b[0m \u001b[1m0s\u001b[0m 4ms/step - loss: 3.3392 - mae: 1.3299 - val_loss: 2.4567 - val_mae: 1.2347\n",
      "Epoch 15/50\n",
      "\u001b[1m101/101\u001b[0m \u001b[32m━━━━━━━━━━━━━━━━━━━━\u001b[0m\u001b[37m\u001b[0m \u001b[1m0s\u001b[0m 4ms/step - loss: 2.7227 - mae: 1.2310 - val_loss: 2.0477 - val_mae: 1.1660\n",
      "Epoch 16/50\n",
      "\u001b[1m101/101\u001b[0m \u001b[32m━━━━━━━━━━━━━━━━━━━━\u001b[0m\u001b[37m\u001b[0m \u001b[1m0s\u001b[0m 4ms/step - loss: 2.4474 - mae: 1.1758 - val_loss: 1.8743 - val_mae: 1.1113\n",
      "Epoch 17/50\n",
      "\u001b[1m101/101\u001b[0m \u001b[32m━━━━━━━━━━━━━━━━━━━━\u001b[0m\u001b[37m\u001b[0m \u001b[1m0s\u001b[0m 4ms/step - loss: 2.3158 - mae: 1.1339 - val_loss: 1.6670 - val_mae: 1.0565\n",
      "Epoch 18/50\n",
      "\u001b[1m101/101\u001b[0m \u001b[32m━━━━━━━━━━━━━━━━━━━━\u001b[0m\u001b[37m\u001b[0m \u001b[1m0s\u001b[0m 3ms/step - loss: 2.1048 - mae: 1.0735 - val_loss: 1.5445 - val_mae: 1.0154\n",
      "Epoch 19/50\n",
      "\u001b[1m101/101\u001b[0m \u001b[32m━━━━━━━━━━━━━━━━━━━━\u001b[0m\u001b[37m\u001b[0m \u001b[1m0s\u001b[0m 3ms/step - loss: 1.9050 - mae: 1.0423 - val_loss: 1.4518 - val_mae: 0.9894\n",
      "Epoch 20/50\n",
      "\u001b[1m101/101\u001b[0m \u001b[32m━━━━━━━━━━━━━━━━━━━━\u001b[0m\u001b[37m\u001b[0m \u001b[1m0s\u001b[0m 3ms/step - loss: 1.8714 - mae: 1.0196 - val_loss: 1.5302 - val_mae: 0.9943\n",
      "Epoch 21/50\n",
      "\u001b[1m101/101\u001b[0m \u001b[32m━━━━━━━━━━━━━━━━━━━━\u001b[0m\u001b[37m\u001b[0m \u001b[1m0s\u001b[0m 3ms/step - loss: 1.8660 - mae: 0.9976 - val_loss: 1.5429 - val_mae: 0.9772\n",
      "Epoch 22/50\n",
      "\u001b[1m101/101\u001b[0m \u001b[32m━━━━━━━━━━━━━━━━━━━━\u001b[0m\u001b[37m\u001b[0m \u001b[1m0s\u001b[0m 3ms/step - loss: 1.7893 - mae: 1.0060 - val_loss: 1.3708 - val_mae: 0.9599\n",
      "Epoch 23/50\n",
      "\u001b[1m101/101\u001b[0m \u001b[32m━━━━━━━━━━━━━━━━━━━━\u001b[0m\u001b[37m\u001b[0m \u001b[1m0s\u001b[0m 3ms/step - loss: 1.9393 - mae: 0.9842 - val_loss: 1.3336 - val_mae: 0.9477\n",
      "Epoch 24/50\n",
      "\u001b[1m101/101\u001b[0m \u001b[32m━━━━━━━━━━━━━━━━━━━━\u001b[0m\u001b[37m\u001b[0m \u001b[1m0s\u001b[0m 3ms/step - loss: 1.6078 - mae: 0.9891 - val_loss: 1.2921 - val_mae: 0.9352\n",
      "Epoch 25/50\n",
      "\u001b[1m101/101\u001b[0m \u001b[32m━━━━━━━━━━━━━━━━━━━━\u001b[0m\u001b[37m\u001b[0m \u001b[1m0s\u001b[0m 3ms/step - loss: 1.6570 - mae: 0.9827 - val_loss: 1.2732 - val_mae: 0.9302\n",
      "Epoch 26/50\n",
      "\u001b[1m101/101\u001b[0m \u001b[32m━━━━━━━━━━━━━━━━━━━━\u001b[0m\u001b[37m\u001b[0m \u001b[1m0s\u001b[0m 3ms/step - loss: 1.4545 - mae: 0.9764 - val_loss: 1.2564 - val_mae: 0.9232\n",
      "Epoch 27/50\n",
      "\u001b[1m101/101\u001b[0m \u001b[32m━━━━━━━━━━━━━━━━━━━━\u001b[0m\u001b[37m\u001b[0m \u001b[1m0s\u001b[0m 4ms/step - loss: 1.4831 - mae: 0.9677 - val_loss: 1.2608 - val_mae: 0.9256\n",
      "Epoch 28/50\n",
      "\u001b[1m101/101\u001b[0m \u001b[32m━━━━━━━━━━━━━━━━━━━━\u001b[0m\u001b[37m\u001b[0m \u001b[1m0s\u001b[0m 4ms/step - loss: 1.5371 - mae: 0.9797 - val_loss: 1.2602 - val_mae: 0.9251\n",
      "Epoch 29/50\n",
      "\u001b[1m101/101\u001b[0m \u001b[32m━━━━━━━━━━━━━━━━━━━━\u001b[0m\u001b[37m\u001b[0m \u001b[1m0s\u001b[0m 4ms/step - loss: 1.4101 - mae: 0.9531 - val_loss: 1.2596 - val_mae: 0.9233\n",
      "Epoch 30/50\n",
      "\u001b[1m101/101\u001b[0m \u001b[32m━━━━━━━━━━━━━━━━━━━━\u001b[0m\u001b[37m\u001b[0m \u001b[1m0s\u001b[0m 4ms/step - loss: 1.3303 - mae: 0.9230 - val_loss: 1.2517 - val_mae: 0.9193\n",
      "Epoch 31/50\n",
      "\u001b[1m101/101\u001b[0m \u001b[32m━━━━━━━━━━━━━━━━━━━━\u001b[0m\u001b[37m\u001b[0m \u001b[1m0s\u001b[0m 4ms/step - loss: 1.4617 - mae: 0.9589 - val_loss: 1.2493 - val_mae: 0.9193\n",
      "Epoch 32/50\n",
      "\u001b[1m101/101\u001b[0m \u001b[32m━━━━━━━━━━━━━━━━━━━━\u001b[0m\u001b[37m\u001b[0m \u001b[1m1s\u001b[0m 4ms/step - loss: 1.3097 - mae: 0.9282 - val_loss: 1.2359 - val_mae: 0.9130\n",
      "Epoch 33/50\n",
      "\u001b[1m101/101\u001b[0m \u001b[32m━━━━━━━━━━━━━━━━━━━━\u001b[0m\u001b[37m\u001b[0m \u001b[1m0s\u001b[0m 4ms/step - loss: 1.4614 - mae: 0.9524 - val_loss: 1.2429 - val_mae: 0.9159\n",
      "Epoch 34/50\n",
      "\u001b[1m101/101\u001b[0m \u001b[32m━━━━━━━━━━━━━━━━━━━━\u001b[0m\u001b[37m\u001b[0m \u001b[1m1s\u001b[0m 5ms/step - loss: 1.4074 - mae: 0.9470 - val_loss: 1.2404 - val_mae: 0.9150\n",
      "Epoch 35/50\n",
      "\u001b[1m101/101\u001b[0m \u001b[32m━━━━━━━━━━━━━━━━━━━━\u001b[0m\u001b[37m\u001b[0m \u001b[1m0s\u001b[0m 4ms/step - loss: 1.4580 - mae: 0.9491 - val_loss: 1.2431 - val_mae: 0.9140\n",
      "Epoch 36/50\n",
      "\u001b[1m101/101\u001b[0m \u001b[32m━━━━━━━━━━━━━━━━━━━━\u001b[0m\u001b[37m\u001b[0m \u001b[1m0s\u001b[0m 4ms/step - loss: 1.3222 - mae: 0.9220 - val_loss: 1.2445 - val_mae: 0.9148\n",
      "Epoch 37/50\n",
      "\u001b[1m101/101\u001b[0m \u001b[32m━━━━━━━━━━━━━━━━━━━━\u001b[0m\u001b[37m\u001b[0m \u001b[1m0s\u001b[0m 4ms/step - loss: 1.3662 - mae: 0.9343 - val_loss: 1.2443 - val_mae: 0.9147\n"
     ]
    }
   ],
   "source": [
    "from tensorflow.keras.callbacks import EarlyStopping\n",
    "# Train with Early Stopping\n",
    "early_stopping = EarlyStopping(monitor='val_loss', patience=5, restore_best_weights=True)\n",
    "history = model.fit(X_train_lstm, y_train, validation_data=(X_test_lstm, y_test), epochs=50, batch_size=32, callbacks=[early_stopping])\n"
   ]
  },
  {
   "cell_type": "code",
   "execution_count": 48,
   "id": "175d8fe1-d143-44a4-be12-ec1fbb4ce223",
   "metadata": {},
   "outputs": [
    {
     "name": "stdout",
     "output_type": "stream",
     "text": [
      "\u001b[1m26/26\u001b[0m \u001b[32m━━━━━━━━━━━━━━━━━━━━\u001b[0m\u001b[37m\u001b[0m \u001b[1m1s\u001b[0m 15ms/step\n",
      "Mean Squared Error: 1.2358689007749633\n",
      "Mean Absolute Error: 0.9130106293753292\n",
      "R² Score: 0.022767542358605786\n"
     ]
    }
   ],
   "source": [
    "# Evaluate model\n",
    "y_pred = model.predict(X_test_lstm)\n",
    "mse = mean_squared_error(y_test, y_pred)\n",
    "mae = mean_absolute_error(y_test, y_pred)\n",
    "r2 = r2_score(y_test, y_pred)\n",
    "print(f\"Mean Squared Error: {mse}\")\n",
    "print(f\"Mean Absolute Error: {mae}\")\n",
    "print(f\"R² Score: {r2}\")"
   ]
  },
  {
   "cell_type": "code",
   "execution_count": 52,
   "id": "d56bc7b8-1c78-4948-98d5-9460f2b707c8",
   "metadata": {},
   "outputs": [
    {
     "data": {
      "image/png": "[encoded data removed]",
      "text/plain": [
       "<Figure size 1000x500 with 1 Axes>"
      ]
     },
     "metadata": {},
     "output_type": "display_data"
    }
   ],
   "source": [
    "# Predictions vs Actual Scores\n",
    "plt.figure(figsize=(10, 5))\n",
    "plt.scatter(y_test, y_pred, alpha=0.5, color='purple')\n",
    "plt.plot([min(y_test), max(y_test)], [min(y_test), max(y_test)], color='red', linestyle='dashed')  # Ideal line\n",
    "plt.xlabel('Actual Scores')\n",
    "plt.ylabel('Predicted Scores')\n",
    "plt.title('Actual vs Predicted Scores')\n",
    "plt.show()"
   ]
  },
  {
   "cell_type": "code",
   "execution_count": 50,
   "id": "d752b7a3-f834-4565-9044-75c6be0b39b8",
   "metadata": {},
   "outputs": [
    {
     "ename": "ValueError",
     "evalue": "Exception encountered when calling Sequential.call().\n\n\u001b[1mInvalid input shape for input Tensor(\"data:0\", shape=(1, 2), dtype=float32). Expected shape (None, 1, 100), but input has incompatible shape (1, 2)\u001b[0m\n\nArguments received by Sequential.call():\n  • inputs=tf.Tensor(shape=(1, 2), dtype=float32)\n  • training=False\n  • mask=None",
     "output_type": "error",
     "traceback": [
      "\u001b[31m---------------------------------------------------------------------------\u001b[39m",
      "\u001b[31mValueError\u001b[39m                                Traceback (most recent call last)",
      "\u001b[36mCell\u001b[39m\u001b[36m \u001b[39m\u001b[32mIn[50]\u001b[39m\u001b[32m, line 14\u001b[39m\n\u001b[32m     12\u001b[39m example_student_answer = \u001b[33m\"\u001b[39m\u001b[33mAn array is a collection of elements stored in contiguous memory locations.\u001b[39m\u001b[33m\"\u001b[39m\n\u001b[32m     13\u001b[39m example_desired_answer = \u001b[33m\"\u001b[39m\u001b[33mAn array is a collection of elements identified by an index.\u001b[39m\u001b[33m\"\u001b[39m\n\u001b[32m---> \u001b[39m\u001b[32m14\u001b[39m predicted_score = \u001b[43mpredict_score\u001b[49m\u001b[43m(\u001b[49m\u001b[43mexample_student_answer\u001b[49m\u001b[43m,\u001b[49m\u001b[43m \u001b[49m\u001b[43mexample_desired_answer\u001b[49m\u001b[43m)\u001b[49m\n\u001b[32m     15\u001b[39m \u001b[38;5;28mprint\u001b[39m(\u001b[33mf\u001b[39m\u001b[33m\"\u001b[39m\u001b[33mPredicted Score: \u001b[39m\u001b[38;5;132;01m{\u001b[39;00mpredicted_score\u001b[38;5;132;01m}\u001b[39;00m\u001b[33m\"\u001b[39m)\n",
      "\u001b[36mCell\u001b[39m\u001b[36m \u001b[39m\u001b[32mIn[50]\u001b[39m\u001b[32m, line 8\u001b[39m, in \u001b[36mpredict_score\u001b[39m\u001b[34m(student_answer, desired_answer)\u001b[39m\n\u001b[32m      6\u001b[39m wmd_sim = compute_wmd(student_answer, desired_answer)\n\u001b[32m      7\u001b[39m features = np.array([[cosine_sim, wmd_sim]])\n\u001b[32m----> \u001b[39m\u001b[32m8\u001b[39m predicted_score = \u001b[43mmodel\u001b[49m\u001b[43m.\u001b[49m\u001b[43mpredict\u001b[49m\u001b[43m(\u001b[49m\u001b[43mfeatures\u001b[49m\u001b[43m)\u001b[49m[\u001b[32m0\u001b[39m][\u001b[32m0\u001b[39m]\n\u001b[32m      9\u001b[39m \u001b[38;5;28;01mreturn\u001b[39;00m predicted_score\n",
      "\u001b[36mFile \u001b[39m\u001b[32m~\\AppData\\Roaming\\Python\\Python312\\site-packages\\keras\\src\\utils\\traceback_utils.py:122\u001b[39m, in \u001b[36mfilter_traceback.<locals>.error_handler\u001b[39m\u001b[34m(*args, **kwargs)\u001b[39m\n\u001b[32m    119\u001b[39m     filtered_tb = _process_traceback_frames(e.__traceback__)\n\u001b[32m    120\u001b[39m     \u001b[38;5;66;03m# To get the full stack trace, call:\u001b[39;00m\n\u001b[32m    121\u001b[39m     \u001b[38;5;66;03m# `keras.config.disable_traceback_filtering()`\u001b[39;00m\n\u001b[32m--> \u001b[39m\u001b[32m122\u001b[39m     \u001b[38;5;28;01mraise\u001b[39;00m e.with_traceback(filtered_tb) \u001b[38;5;28;01mfrom\u001b[39;00m\u001b[38;5;250m \u001b[39m\u001b[38;5;28;01mNone\u001b[39;00m\n\u001b[32m    123\u001b[39m \u001b[38;5;28;01mfinally\u001b[39;00m:\n\u001b[32m    124\u001b[39m     \u001b[38;5;28;01mdel\u001b[39;00m filtered_tb\n",
      "\u001b[36mFile \u001b[39m\u001b[32m~\\AppData\\Roaming\\Python\\Python312\\site-packages\\keras\\src\\models\\functional.py:273\u001b[39m, in \u001b[36mFunctional._adjust_input_rank\u001b[39m\u001b[34m(self, flat_inputs)\u001b[39m\n\u001b[32m    271\u001b[39m             adjusted.append(ops.expand_dims(x, axis=-\u001b[32m1\u001b[39m))\n\u001b[32m    272\u001b[39m             \u001b[38;5;28;01mcontinue\u001b[39;00m\n\u001b[32m--> \u001b[39m\u001b[32m273\u001b[39m     \u001b[38;5;28;01mraise\u001b[39;00m \u001b[38;5;167;01mValueError\u001b[39;00m(\n\u001b[32m    274\u001b[39m         \u001b[33mf\u001b[39m\u001b[33m\"\u001b[39m\u001b[33mInvalid input shape for input \u001b[39m\u001b[38;5;132;01m{\u001b[39;00mx\u001b[38;5;132;01m}\u001b[39;00m\u001b[33m. Expected shape \u001b[39m\u001b[33m\"\u001b[39m\n\u001b[32m    275\u001b[39m         \u001b[33mf\u001b[39m\u001b[33m\"\u001b[39m\u001b[38;5;132;01m{\u001b[39;00mref_shape\u001b[38;5;132;01m}\u001b[39;00m\u001b[33m, but input has incompatible shape \u001b[39m\u001b[38;5;132;01m{\u001b[39;00mx.shape\u001b[38;5;132;01m}\u001b[39;00m\u001b[33m\"\u001b[39m\n\u001b[32m    276\u001b[39m     )\n\u001b[32m    277\u001b[39m \u001b[38;5;66;03m# Add back metadata.\u001b[39;00m\n\u001b[32m    278\u001b[39m \u001b[38;5;28;01mfor\u001b[39;00m i \u001b[38;5;129;01min\u001b[39;00m \u001b[38;5;28mrange\u001b[39m(\u001b[38;5;28mlen\u001b[39m(flat_inputs)):\n",
      "\u001b[31mValueError\u001b[39m: Exception encountered when calling Sequential.call().\n\n\u001b[1mInvalid input shape for input Tensor(\"data:0\", shape=(1, 2), dtype=float32). Expected shape (None, 1, 100), but input has incompatible shape (1, 2)\u001b[0m\n\nArguments received by Sequential.call():\n  • inputs=tf.Tensor(shape=(1, 2), dtype=float32)\n  • training=False\n  • mask=None"
     ]
    }
   ],
   "source": [
    "# Example prediction\n",
    "def predict_score(student_answer, desired_answer):\n",
    "    student_answer = preprocess_text(student_answer)\n",
    "    desired_answer = preprocess_text(desired_answer)\n",
    "    cosine_sim = compute_cosine_similarity(student_answer, desired_answer, tfidf_vectorizer)\n",
    "    wmd_sim = compute_wmd(student_answer, desired_answer)\n",
    "    features = np.array([[cosine_sim, wmd_sim]])\n",
    "    predicted_score = model.predict(features)[0][0]\n",
    "    return predicted_score\n",
    "\n",
    "# Test example\n",
    "example_student_answer = \"An array is a collection of elements stored in contiguous memory locations.\"\n",
    "example_desired_answer = \"An array is a collection of elements identified by an index.\"\n",
    "predicted_score = predict_score(example_student_answer, example_desired_answer)\n",
    "print(f\"Predicted Score: {predicted_score}\")"
   ]
  },
  {
   "cell_type": "code",
   "execution_count": null,
   "id": "41bb629f-e693-4fb6-ae20-f29b686e3045",
   "metadata": {},
   "outputs": [],
   "source": []
  }
 ],
 "metadata": {
  "kernelspec": {
   "display_name": "Python 3 (ipykernel)",
   "language": "python",
   "name": "python3"
  },
  "language_info": {
   "codemirror_mode": {
    "name": "ipython",
    "version": 3
   },
   "file_extension": ".py",
   "mimetype": "text/x-python",
   "name": "python",
   "nbconvert_exporter": "python",
   "pygments_lexer": "ipython3",
   "version": "3.12.7"
  }
 },
 "nbformat": 4,
 "nbformat_minor": 5
}
